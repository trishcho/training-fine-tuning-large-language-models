{
 "cells": [
  {
   "cell_type": "markdown",
   "metadata": {
    "id": "qUU7wy-brl_H",
    "pycharm": {
     "name": "#%% md\n"
    }
   },
   "source": [
    "# NLP applications with Transformers"
   ]
  },
  {
   "cell_type": "markdown",
   "metadata": {
    "id": "9Arcq-xju9zQ"
   },
   "source": [
    "## Leveraging Transformers Pipelines"
   ]
  },
  {
   "cell_type": "markdown",
   "metadata": {
    "id": "-HLOHXuArl_L",
    "pycharm": {
     "name": "#%% md\n"
    }
   },
   "source": [
    "__Here you will leverage various transformer pipelines to solve real-world problems__\n",
    "\n",
    "Pipelines encapsulate the overall process of every NLP process:\n",
    "\n",
    " 1. *Tokenization*: Split the initial input into multiple sub-entities with ... properties (i.e. tokens).\n",
    " 2. *Inference*: Maps every tokens into a more meaningful representation.\n",
    " 3. *Decoding*: Use the above representation to generate and/or extract the final output for the underlying task.\n",
    "\n",
    "The overall API is exposed to the end-user through the `pipeline()` method with the following\n",
    "structure:\n",
    "\n",
    "```python\n",
    "from transformers import pipeline\n",
    "\n",
    "# Using default model and tokenizer for the task\n",
    "pipeline(\"<task-name>\")\n",
    "\n",
    "# Using a user-specified model\n",
    "pipeline(\"<task-name>\", model=\"<model_name>\")\n",
    "\n",
    "# Using custom model/tokenizer as str\n",
    "pipeline('<task-name>', model='<model name>', tokenizer='<tokenizer_name>')\n",
    "```\n",
    "\n",
    "\n",
    "These models are already fine-tuned models for specific tasks available in huggingface hub\n",
    "\n",
    "___[Created By: Dipanjan (DJ)](https://www.linkedin.com/in/dipanjans/)___"
   ]
  },
  {
   "cell_type": "markdown",
   "metadata": {
    "id": "Tqx-lbzXWRS1"
   },
   "source": [
    "### Install dependencies"
   ]
  },
  {
   "cell_type": "code",
   "execution_count": 1,
   "metadata": {
    "id": "AQ5t_gLNXO0r"
   },
   "outputs": [],
   "source": [
    "from transformers import pipeline\n",
    "import pandas as pd"
   ]
  },
  {
   "cell_type": "code",
   "execution_count": 2,
   "metadata": {
    "id": "IoW3g_-F-c4R"
   },
   "outputs": [],
   "source": [
    "pd.set_option('display.max_colwidth', None)"
   ]
  },
  {
   "cell_type": "markdown",
   "metadata": {
    "id": "9iV_qpHD_UBG"
   },
   "source": [
    "# 1. Customer Feedback Analytics\n",
    "\n",
    "Scenario: You are working for a retail company which stocks various products. You will try to use tranformer LLMs here to extract sentiment and emotion from customer reviews"
   ]
  },
  {
   "cell_type": "markdown",
   "metadata": {
    "id": "bGwD_kyc_iEm"
   },
   "source": [
    "## Example Demo:"
   ]
  },
  {
   "cell_type": "code",
   "execution_count": 3,
   "metadata": {
    "id": "FR5wjaEC7W24"
   },
   "outputs": [
    {
     "data": {
      "text/html": [
       "<div>\n",
       "<style scoped>\n",
       "    .dataframe tbody tr th:only-of-type {\n",
       "        vertical-align: middle;\n",
       "    }\n",
       "\n",
       "    .dataframe tbody tr th {\n",
       "        vertical-align: top;\n",
       "    }\n",
       "\n",
       "    .dataframe thead th {\n",
       "        text-align: right;\n",
       "    }\n",
       "</style>\n",
       "<table border=\"1\" class=\"dataframe\">\n",
       "  <thead>\n",
       "    <tr style=\"text-align: right;\">\n",
       "      <th></th>\n",
       "      <th>review</th>\n",
       "    </tr>\n",
       "  </thead>\n",
       "  <tbody>\n",
       "    <tr>\n",
       "      <th>0</th>\n",
       "      <td>The PureTaste kitchen blender is far from efficient. It struggles with even soft fruits and often overheats. I had to return it within a week.</td>\n",
       "    </tr>\n",
       "    <tr>\n",
       "      <th>1</th>\n",
       "      <td>The EverGreen plant fertilizer is magic in a bottle! Within weeks of using it, my plants have shown significant growth and look healthier than ever. A thumbs up from an avid gardener.</td>\n",
       "    </tr>\n",
       "    <tr>\n",
       "      <th>2</th>\n",
       "      <td>Purchased the NovaTech laptop last month, and it's been a smooth experience. The processing speed is fast, and the graphics are stunning. Best decision for my work and gaming needs.</td>\n",
       "    </tr>\n",
       "    <tr>\n",
       "      <th>3</th>\n",
       "      <td>The StarGlow nightlight looked promising, but it's far dimmer than advertised. Doesn't serve the purpose at all. Quite disappointed.</td>\n",
       "    </tr>\n",
       "  </tbody>\n",
       "</table>\n",
       "</div>"
      ],
      "text/plain": [
       "                                                                                                                                                                                    review\n",
       "0                                           The PureTaste kitchen blender is far from efficient. It struggles with even soft fruits and often overheats. I had to return it within a week.\n",
       "1  The EverGreen plant fertilizer is magic in a bottle! Within weeks of using it, my plants have shown significant growth and look healthier than ever. A thumbs up from an avid gardener.\n",
       "2    Purchased the NovaTech laptop last month, and it's been a smooth experience. The processing speed is fast, and the graphics are stunning. Best decision for my work and gaming needs.\n",
       "3                                                     The StarGlow nightlight looked promising, but it's far dimmer than advertised. Doesn't serve the purpose at all. Quite disappointed."
      ]
     },
     "execution_count": 3,
     "metadata": {},
     "output_type": "execute_result"
    }
   ],
   "source": [
    "sample_reviews = [\n",
    "    \"The PureTaste kitchen blender is far from efficient. It struggles with even soft fruits and often overheats. I had to return it within a week.\",\n",
    "    \"The EverGreen plant fertilizer is magic in a bottle! Within weeks of using it, my plants have shown significant growth and look healthier than ever. A thumbs up from an avid gardener.\",\n",
    "    \"Purchased the NovaTech laptop last month, and it's been a smooth experience. The processing speed is fast, and the graphics are stunning. Best decision for my work and gaming needs.\",\n",
    "    \"The StarGlow nightlight looked promising, but it's far dimmer than advertised. Doesn't serve the purpose at all. Quite disappointed.\"\n",
    "]\n",
    "\n",
    "sample_review_df = pd.DataFrame(sample_reviews, columns=['review'])\n",
    "sample_review_df"
   ]
  },
  {
   "cell_type": "markdown",
   "metadata": {
    "id": "7zLMrEb-_l3L"
   },
   "source": [
    "### Load a sentiment analysis transformer model"
   ]
  },
  {
   "cell_type": "code",
   "execution_count": 4,
   "metadata": {
    "id": "Tzq_Q6LK73wU"
   },
   "outputs": [
    {
     "name": "stderr",
     "output_type": "stream",
     "text": [
      "No model was supplied, defaulted to distilbert/distilbert-base-uncased-finetuned-sst-2-english and revision af0f99b (https://huggingface.co/distilbert/distilbert-base-uncased-finetuned-sst-2-english).\n",
      "Using a pipeline without specifying a model name and revision in production is not recommended.\n"
     ]
    },
    {
     "data": {
      "application/vnd.jupyter.widget-view+json": {
       "model_id": "c3d7e8912390486d99ea602be42fa9e2",
       "version_major": 2,
       "version_minor": 0
      },
      "text/plain": [
       "config.json:   0%|          | 0.00/629 [00:00<?, ?B/s]"
      ]
     },
     "metadata": {},
     "output_type": "display_data"
    },
    {
     "data": {
      "application/vnd.jupyter.widget-view+json": {
       "model_id": "0a27b71a828c4d378f3fbdcf9263e28e",
       "version_major": 2,
       "version_minor": 0
      },
      "text/plain": [
       "model.safetensors:   0%|          | 0.00/268M [00:00<?, ?B/s]"
      ]
     },
     "metadata": {},
     "output_type": "display_data"
    },
    {
     "data": {
      "application/vnd.jupyter.widget-view+json": {
       "model_id": "2fd6f3dfd76a44e5ba1a449bbf15e933",
       "version_major": 2,
       "version_minor": 0
      },
      "text/plain": [
       "tokenizer_config.json:   0%|          | 0.00/48.0 [00:00<?, ?B/s]"
      ]
     },
     "metadata": {},
     "output_type": "display_data"
    },
    {
     "data": {
      "application/vnd.jupyter.widget-view+json": {
       "model_id": "eb6b3cbcd9b24f3783b2d83279bbb88d",
       "version_major": 2,
       "version_minor": 0
      },
      "text/plain": [
       "vocab.txt:   0%|          | 0.00/232k [00:00<?, ?B/s]"
      ]
     },
     "metadata": {},
     "output_type": "display_data"
    }
   ],
   "source": [
    "sentiment_model = pipeline('sentiment-analysis', device=0)"
   ]
  },
  {
   "cell_type": "markdown",
   "metadata": {
    "id": "I1Og5NIG_puy"
   },
   "source": [
    "### Perform sentiment analysis for given reviews"
   ]
  },
  {
   "cell_type": "code",
   "execution_count": 5,
   "metadata": {
    "id": "4taVgX9r79tF"
   },
   "outputs": [
    {
     "data": {
      "text/plain": [
       "array(['The PureTaste kitchen blender is far from efficient. It struggles with even soft fruits and often overheats. I had to return it within a week.',\n",
       "       'The EverGreen plant fertilizer is magic in a bottle! Within weeks of using it, my plants have shown significant growth and look healthier than ever. A thumbs up from an avid gardener.',\n",
       "       \"Purchased the NovaTech laptop last month, and it's been a smooth experience. The processing speed is fast, and the graphics are stunning. Best decision for my work and gaming needs.\",\n",
       "       \"The StarGlow nightlight looked promising, but it's far dimmer than advertised. Doesn't serve the purpose at all. Quite disappointed.\"],\n",
       "      dtype=object)"
      ]
     },
     "execution_count": 5,
     "metadata": {},
     "output_type": "execute_result"
    }
   ],
   "source": [
    "reviews = sample_review_df['review'].values\n",
    "reviews"
   ]
  },
  {
   "cell_type": "code",
   "execution_count": 6,
   "metadata": {
    "id": "sPetHDom8WHy"
   },
   "outputs": [
    {
     "data": {
      "text/plain": [
       "'The PureTaste kitchen blender is far from efficient. It struggles with even soft fruits and often overheats. I had to return it within a week.'"
      ]
     },
     "execution_count": 6,
     "metadata": {},
     "output_type": "execute_result"
    }
   ],
   "source": [
    "reviews[0]"
   ]
  },
  {
   "cell_type": "code",
   "execution_count": 7,
   "metadata": {
    "id": "U-sDAeGY768N"
   },
   "outputs": [
    {
     "data": {
      "text/plain": [
       "[{'label': 'NEGATIVE', 'score': 0.9995445609092712}]"
      ]
     },
     "execution_count": 7,
     "metadata": {},
     "output_type": "execute_result"
    }
   ],
   "source": [
    "sentiment_model(reviews[0])"
   ]
  },
  {
   "cell_type": "code",
   "execution_count": 8,
   "metadata": {
    "id": "Y_KNuqse8HvM"
   },
   "outputs": [
    {
     "data": {
      "text/plain": [
       "'NEGATIVE'"
      ]
     },
     "execution_count": 8,
     "metadata": {},
     "output_type": "execute_result"
    }
   ],
   "source": [
    "sentiment_model(reviews[0])[0]['label']"
   ]
  },
  {
   "cell_type": "code",
   "execution_count": 9,
   "metadata": {
    "id": "-gjHUpqn8Ktd"
   },
   "outputs": [
    {
     "data": {
      "text/plain": [
       "['NEGATIVE', 'POSITIVE', 'POSITIVE', 'NEGATIVE']"
      ]
     },
     "execution_count": 9,
     "metadata": {},
     "output_type": "execute_result"
    }
   ],
   "source": [
    "sentiments = []\n",
    "\n",
    "for review in reviews:\n",
    "  sentiments.append(sentiment_model(review)[0]['label'])\n",
    "\n",
    "sentiments"
   ]
  },
  {
   "cell_type": "code",
   "execution_count": 10,
   "metadata": {
    "id": "L5TmFb0G8ZJq"
   },
   "outputs": [
    {
     "data": {
      "text/html": [
       "<div>\n",
       "<style scoped>\n",
       "    .dataframe tbody tr th:only-of-type {\n",
       "        vertical-align: middle;\n",
       "    }\n",
       "\n",
       "    .dataframe tbody tr th {\n",
       "        vertical-align: top;\n",
       "    }\n",
       "\n",
       "    .dataframe thead th {\n",
       "        text-align: right;\n",
       "    }\n",
       "</style>\n",
       "<table border=\"1\" class=\"dataframe\">\n",
       "  <thead>\n",
       "    <tr style=\"text-align: right;\">\n",
       "      <th></th>\n",
       "      <th>review</th>\n",
       "      <th>sentiment</th>\n",
       "    </tr>\n",
       "  </thead>\n",
       "  <tbody>\n",
       "    <tr>\n",
       "      <th>0</th>\n",
       "      <td>The PureTaste kitchen blender is far from efficient. It struggles with even soft fruits and often overheats. I had to return it within a week.</td>\n",
       "      <td>NEGATIVE</td>\n",
       "    </tr>\n",
       "    <tr>\n",
       "      <th>1</th>\n",
       "      <td>The EverGreen plant fertilizer is magic in a bottle! Within weeks of using it, my plants have shown significant growth and look healthier than ever. A thumbs up from an avid gardener.</td>\n",
       "      <td>POSITIVE</td>\n",
       "    </tr>\n",
       "    <tr>\n",
       "      <th>2</th>\n",
       "      <td>Purchased the NovaTech laptop last month, and it's been a smooth experience. The processing speed is fast, and the graphics are stunning. Best decision for my work and gaming needs.</td>\n",
       "      <td>POSITIVE</td>\n",
       "    </tr>\n",
       "    <tr>\n",
       "      <th>3</th>\n",
       "      <td>The StarGlow nightlight looked promising, but it's far dimmer than advertised. Doesn't serve the purpose at all. Quite disappointed.</td>\n",
       "      <td>NEGATIVE</td>\n",
       "    </tr>\n",
       "  </tbody>\n",
       "</table>\n",
       "</div>"
      ],
      "text/plain": [
       "                                                                                                                                                                                    review  \\\n",
       "0                                           The PureTaste kitchen blender is far from efficient. It struggles with even soft fruits and often overheats. I had to return it within a week.   \n",
       "1  The EverGreen plant fertilizer is magic in a bottle! Within weeks of using it, my plants have shown significant growth and look healthier than ever. A thumbs up from an avid gardener.   \n",
       "2    Purchased the NovaTech laptop last month, and it's been a smooth experience. The processing speed is fast, and the graphics are stunning. Best decision for my work and gaming needs.   \n",
       "3                                                     The StarGlow nightlight looked promising, but it's far dimmer than advertised. Doesn't serve the purpose at all. Quite disappointed.   \n",
       "\n",
       "  sentiment  \n",
       "0  NEGATIVE  \n",
       "1  POSITIVE  \n",
       "2  POSITIVE  \n",
       "3  NEGATIVE  "
      ]
     },
     "execution_count": 10,
     "metadata": {},
     "output_type": "execute_result"
    }
   ],
   "source": [
    "sample_review_df['sentiment'] = sentiments\n",
    "sample_review_df"
   ]
  },
  {
   "cell_type": "markdown",
   "metadata": {
    "id": "2LuLQ7MD_tZo"
   },
   "source": [
    "### Load an emotion detector transformer model"
   ]
  },
  {
   "cell_type": "code",
   "execution_count": 11,
   "metadata": {
    "id": "Pdp5PqF98cr-"
   },
   "outputs": [
    {
     "data": {
      "application/vnd.jupyter.widget-view+json": {
       "model_id": "c071d953a0d6466b83b63ec6c61827e0",
       "version_major": 2,
       "version_minor": 0
      },
      "text/plain": [
       "config.json:   0%|          | 0.00/1.92k [00:00<?, ?B/s]"
      ]
     },
     "metadata": {},
     "output_type": "display_data"
    },
    {
     "data": {
      "application/vnd.jupyter.widget-view+json": {
       "model_id": "cc26a7db51fb44c69ec1308f1e457399",
       "version_major": 2,
       "version_minor": 0
      },
      "text/plain": [
       "model.safetensors:   0%|          | 0.00/499M [00:00<?, ?B/s]"
      ]
     },
     "metadata": {},
     "output_type": "display_data"
    },
    {
     "data": {
      "application/vnd.jupyter.widget-view+json": {
       "model_id": "a707b420d9a34186b01e2ff495da7eb5",
       "version_major": 2,
       "version_minor": 0
      },
      "text/plain": [
       "tokenizer_config.json:   0%|          | 0.00/380 [00:00<?, ?B/s]"
      ]
     },
     "metadata": {},
     "output_type": "display_data"
    },
    {
     "data": {
      "application/vnd.jupyter.widget-view+json": {
       "model_id": "2cf6142e69424b92af0d46d92eed2c53",
       "version_major": 2,
       "version_minor": 0
      },
      "text/plain": [
       "vocab.json:   0%|          | 0.00/798k [00:00<?, ?B/s]"
      ]
     },
     "metadata": {},
     "output_type": "display_data"
    },
    {
     "data": {
      "application/vnd.jupyter.widget-view+json": {
       "model_id": "9ef326d2dae9445faf1e19bf20ed9214",
       "version_major": 2,
       "version_minor": 0
      },
      "text/plain": [
       "merges.txt:   0%|          | 0.00/456k [00:00<?, ?B/s]"
      ]
     },
     "metadata": {},
     "output_type": "display_data"
    },
    {
     "data": {
      "application/vnd.jupyter.widget-view+json": {
       "model_id": "409e25e527fc44d387c1f486ee492e17",
       "version_major": 2,
       "version_minor": 0
      },
      "text/plain": [
       "tokenizer.json:   0%|          | 0.00/2.11M [00:00<?, ?B/s]"
      ]
     },
     "metadata": {},
     "output_type": "display_data"
    },
    {
     "data": {
      "application/vnd.jupyter.widget-view+json": {
       "model_id": "09bdb1339156431a9332a541cc0bce19",
       "version_major": 2,
       "version_minor": 0
      },
      "text/plain": [
       "special_tokens_map.json:   0%|          | 0.00/280 [00:00<?, ?B/s]"
      ]
     },
     "metadata": {},
     "output_type": "display_data"
    }
   ],
   "source": [
    "emotion_model = pipeline('sentiment-analysis',\n",
    "                         model='SamLowe/roberta-base-go_emotions',\n",
    "                         device=0)"
   ]
  },
  {
   "cell_type": "markdown",
   "metadata": {
    "id": "nrgHnWkO_0G6"
   },
   "source": [
    "### Perform emotion analysis for given reviews"
   ]
  },
  {
   "cell_type": "code",
   "execution_count": 12,
   "metadata": {
    "id": "ApMW967C8qIj"
   },
   "outputs": [
    {
     "data": {
      "text/plain": [
       "['disappointment', 'admiration', 'admiration', 'disappointment']"
      ]
     },
     "execution_count": 12,
     "metadata": {},
     "output_type": "execute_result"
    }
   ],
   "source": [
    "emotions = []\n",
    "\n",
    "for review in reviews:\n",
    "  emotions.append(emotion_model(review)[0]['label'])\n",
    "\n",
    "emotions"
   ]
  },
  {
   "cell_type": "code",
   "execution_count": 13,
   "metadata": {
    "id": "y-PuC9cM85me"
   },
   "outputs": [
    {
     "data": {
      "text/html": [
       "<div>\n",
       "<style scoped>\n",
       "    .dataframe tbody tr th:only-of-type {\n",
       "        vertical-align: middle;\n",
       "    }\n",
       "\n",
       "    .dataframe tbody tr th {\n",
       "        vertical-align: top;\n",
       "    }\n",
       "\n",
       "    .dataframe thead th {\n",
       "        text-align: right;\n",
       "    }\n",
       "</style>\n",
       "<table border=\"1\" class=\"dataframe\">\n",
       "  <thead>\n",
       "    <tr style=\"text-align: right;\">\n",
       "      <th></th>\n",
       "      <th>review</th>\n",
       "      <th>sentiment</th>\n",
       "      <th>emotion</th>\n",
       "    </tr>\n",
       "  </thead>\n",
       "  <tbody>\n",
       "    <tr>\n",
       "      <th>0</th>\n",
       "      <td>The PureTaste kitchen blender is far from efficient. It struggles with even soft fruits and often overheats. I had to return it within a week.</td>\n",
       "      <td>NEGATIVE</td>\n",
       "      <td>disappointment</td>\n",
       "    </tr>\n",
       "    <tr>\n",
       "      <th>1</th>\n",
       "      <td>The EverGreen plant fertilizer is magic in a bottle! Within weeks of using it, my plants have shown significant growth and look healthier than ever. A thumbs up from an avid gardener.</td>\n",
       "      <td>POSITIVE</td>\n",
       "      <td>admiration</td>\n",
       "    </tr>\n",
       "    <tr>\n",
       "      <th>2</th>\n",
       "      <td>Purchased the NovaTech laptop last month, and it's been a smooth experience. The processing speed is fast, and the graphics are stunning. Best decision for my work and gaming needs.</td>\n",
       "      <td>POSITIVE</td>\n",
       "      <td>admiration</td>\n",
       "    </tr>\n",
       "    <tr>\n",
       "      <th>3</th>\n",
       "      <td>The StarGlow nightlight looked promising, but it's far dimmer than advertised. Doesn't serve the purpose at all. Quite disappointed.</td>\n",
       "      <td>NEGATIVE</td>\n",
       "      <td>disappointment</td>\n",
       "    </tr>\n",
       "  </tbody>\n",
       "</table>\n",
       "</div>"
      ],
      "text/plain": [
       "                                                                                                                                                                                    review  \\\n",
       "0                                           The PureTaste kitchen blender is far from efficient. It struggles with even soft fruits and often overheats. I had to return it within a week.   \n",
       "1  The EverGreen plant fertilizer is magic in a bottle! Within weeks of using it, my plants have shown significant growth and look healthier than ever. A thumbs up from an avid gardener.   \n",
       "2    Purchased the NovaTech laptop last month, and it's been a smooth experience. The processing speed is fast, and the graphics are stunning. Best decision for my work and gaming needs.   \n",
       "3                                                     The StarGlow nightlight looked promising, but it's far dimmer than advertised. Doesn't serve the purpose at all. Quite disappointed.   \n",
       "\n",
       "  sentiment         emotion  \n",
       "0  NEGATIVE  disappointment  \n",
       "1  POSITIVE      admiration  \n",
       "2  POSITIVE      admiration  \n",
       "3  NEGATIVE  disappointment  "
      ]
     },
     "execution_count": 13,
     "metadata": {},
     "output_type": "execute_result"
    }
   ],
   "source": [
    "sample_review_df['emotion'] = emotions\n",
    "sample_review_df"
   ]
  },
  {
   "cell_type": "markdown",
   "metadata": {
    "id": "8TycNUzv_1-u"
   },
   "source": [
    "### Plot some basic visuals"
   ]
  },
  {
   "cell_type": "code",
   "execution_count": 14,
   "metadata": {
    "id": "rWYYe9wA89PA"
   },
   "outputs": [
    {
     "data": {
      "image/png": "[encoded data removed]",
      "text/plain": [
       "<Figure size 640x480 with 1 Axes>"
      ]
     },
     "metadata": {},
     "output_type": "display_data"
    }
   ],
   "source": [
    "sample_review_df['sentiment'].value_counts().plot(kind='bar');"
   ]
  },
  {
   "cell_type": "code",
   "execution_count": 15,
   "metadata": {
    "id": "2s3XIp649DPF"
   },
   "outputs": [
    {
     "data": {
      "image/png": "[encoded data removed]",
      "text/plain": [
       "<Figure size 640x480 with 1 Axes>"
      ]
     },
     "metadata": {},
     "output_type": "display_data"
    }
   ],
   "source": [
    "sample_review_df['emotion'].value_counts().plot(kind='bar');"
   ]
  },
  {
   "cell_type": "markdown",
   "metadata": {
    "id": "xkJYul_8_5QP"
   },
   "source": [
    "## Your Turn:\n",
    "\n",
    "Given more customer reviews, repeat the same analytics which we showed you above.\n",
    "\n",
    "1. For each review get the sentiment and emotion using the same models\n",
    "2. Store the emotion and sentiment in separate columns in the dataframe\n",
    "3. Show the dataframe with all the columns\n",
    "4. Create basic visuals"
   ]
  },
  {
   "cell_type": "code",
   "execution_count": 16,
   "metadata": {
    "id": "jcQ7Hhf79JZR"
   },
   "outputs": [
    {
     "data": {
      "text/html": [
       "<div>\n",
       "<style scoped>\n",
       "    .dataframe tbody tr th:only-of-type {\n",
       "        vertical-align: middle;\n",
       "    }\n",
       "\n",
       "    .dataframe tbody tr th {\n",
       "        vertical-align: top;\n",
       "    }\n",
       "\n",
       "    .dataframe thead th {\n",
       "        text-align: right;\n",
       "    }\n",
       "</style>\n",
       "<table border=\"1\" class=\"dataframe\">\n",
       "  <thead>\n",
       "    <tr style=\"text-align: right;\">\n",
       "      <th></th>\n",
       "      <th>review</th>\n",
       "    </tr>\n",
       "  </thead>\n",
       "  <tbody>\n",
       "    <tr>\n",
       "      <th>0</th>\n",
       "      <td>I had high hopes for the UltraClean vacuum cleaner, but it hardly picks up any dirt. Also, the battery life is abysmal. Not worth the price.</td>\n",
       "    </tr>\n",
       "    <tr>\n",
       "      <th>1</th>\n",
       "      <td>The SunBurst solar charger was advertised as being highly efficient, but it barely charges my devices. Even under direct sunlight, it takes forever. A complete letdown.</td>\n",
       "    </tr>\n",
       "    <tr>\n",
       "      <th>2</th>\n",
       "      <td>Bought the AirLite drone, and it's not user-friendly at all. The controls are confusing, and the camera quality is mediocre at best. Wish I had gone for another brand.</td>\n",
       "    </tr>\n",
       "    <tr>\n",
       "      <th>3</th>\n",
       "      <td>Bought the LumiGlow skincare serum a month ago, and the results are visible! My skin feels rejuvenated and the fine lines have reduced. Definitely worth the investment.</td>\n",
       "    </tr>\n",
       "    <tr>\n",
       "      <th>4</th>\n",
       "      <td>The TerraFit hiking boots are outstanding. They're not only durable but also provide excellent support during long treks. My feet have never felt so comfortable during hikes.</td>\n",
       "    </tr>\n",
       "  </tbody>\n",
       "</table>\n",
       "</div>"
      ],
      "text/plain": [
       "                                                                                                                                                                           review\n",
       "0                                    I had high hopes for the UltraClean vacuum cleaner, but it hardly picks up any dirt. Also, the battery life is abysmal. Not worth the price.\n",
       "1        The SunBurst solar charger was advertised as being highly efficient, but it barely charges my devices. Even under direct sunlight, it takes forever. A complete letdown.\n",
       "2         Bought the AirLite drone, and it's not user-friendly at all. The controls are confusing, and the camera quality is mediocre at best. Wish I had gone for another brand.\n",
       "3        Bought the LumiGlow skincare serum a month ago, and the results are visible! My skin feels rejuvenated and the fine lines have reduced. Definitely worth the investment.\n",
       "4  The TerraFit hiking boots are outstanding. They're not only durable but also provide excellent support during long treks. My feet have never felt so comfortable during hikes."
      ]
     },
     "execution_count": 16,
     "metadata": {},
     "output_type": "execute_result"
    }
   ],
   "source": [
    "reviews = [\n",
    "    \"I had high hopes for the UltraClean vacuum cleaner, but it hardly picks up any dirt. Also, the battery life is abysmal. Not worth the price.\",\n",
    "    \"The SunBurst solar charger was advertised as being highly efficient, but it barely charges my devices. Even under direct sunlight, it takes forever. A complete letdown.\",\n",
    "    \"Bought the AirLite drone, and it's not user-friendly at all. The controls are confusing, and the camera quality is mediocre at best. Wish I had gone for another brand.\",\n",
    "    \"Bought the LumiGlow skincare serum a month ago, and the results are visible! My skin feels rejuvenated and the fine lines have reduced. Definitely worth the investment.\",\n",
    "    \"The TerraFit hiking boots are outstanding. They're not only durable but also provide excellent support during long treks. My feet have never felt so comfortable during hikes.\",\n",
    "    \"I was skeptical about the QuickCook microwave oven initially, but it has surpassed all my expectations. The multi-function features and quick heating technology are truly innovative. A must-have in every kitchen!\",\n",
    "    \"The Prestige juicer is a disappointment. It constantly gets jammed, and cleaning it is a nightmare. I regret this purchase.\",\n",
    "    \"I recently purchased the AquaBliss water filter, and I'm genuinely impressed! Not only was the installation straightforward, but the water tastes remarkably fresh. Highly recommended for anyone wanting pure drinking water.\",\n",
    "    \"The SoundWave headphones are a game-changer. They fit comfortably, and the noise-cancellation feature is top-notch. I can finally enjoy my music without any interruptions.\",\n",
    "    \"The GlamorEyes mascara is terrible. It clumps easily and doesn't provide the volume it promises. Definitely won't be repurchasing.\",\n",
    "    \"The StreamLine smartwatch is a fantastic addition to my tech collection. It tracks my health metrics accurately, and the battery life is commendable. It's stylish and functional.\",\n",
    "    \"I've been using the SilkSoft hair conditioner for the past two weeks, and my hair has never felt better. It's silky, tangle-free, and smells divine. Highly recommend for those with frizzy hair.\",\n",
    "    \"The LuxeShine nail polish chips easily and doesn't last more than a day. The colors are lovely, but the quality leaves much to be desired.\",\n",
    "    \"Tried the PowerPulse wireless earbuds, and they keep disconnecting randomly. The sound quality is also underwhelming. Not what I expected for the price.\",\n",
    "    \"The ZoomDrive USB stick is both compact and efficient. Transferring files has never been faster, and its durable design ensures I don't have to worry about data loss.\",\n",
    "    \"Opted for the FreshBreeze air purifier, and it has made a noticeable difference in my home. Allergies are at bay, and the air feels cleaner and fresher.\",\n",
    "    \"The ClearVue window cleaner left streaks on my windows. I had to redo the cleaning with another product. It's more hassle than it's worth.\",\n",
    "    \"The MegaGrill BBQ set looked sturdy online, but in reality, it's flimsy and poorly constructed. Cooking on it has been a challenge.\",\n",
    "    \"The UrbanWalk sneakers are not only trendy but also incredibly comfortable. I've worn them for both workouts and casual outings, and they've been perfect for both.\",\n",
    "    \"The SwiftWrite pen set is not worth the money. The ink smudges, and the pens run out way too quickly. I'll be looking for alternatives.\"\n",
    "]\n",
    "\n",
    "review_df = pd.DataFrame(reviews, columns=['review'])\n",
    "review_df.head()"
   ]
  },
  {
   "cell_type": "code",
   "execution_count": 17,
   "metadata": {
    "id": "0WRrajZC-RS1"
   },
   "outputs": [
    {
     "name": "stderr",
     "output_type": "stream",
     "text": [
      "You seem to be using the pipelines sequentially on GPU. In order to maximize efficiency please use a dataset\n"
     ]
    }
   ],
   "source": [
    "reviews = review_df['review'].values\n",
    "\n",
    "sentiments = []\n",
    "emotions = []\n",
    "\n",
    "for review in reviews:\n",
    "  sentiments.append(sentiment_model(review)[0]['label'])\n",
    "  emotions.append(emotion_model(review)[0]['label'])\n",
    "\n",
    "review_df['sentiment'] = sentiments\n",
    "review_df['emotion'] = emotions"
   ]
  },
  {
   "cell_type": "code",
   "execution_count": 18,
   "metadata": {
    "id": "e1_OoOfY_ASz"
   },
   "outputs": [
    {
     "data": {
      "text/html": [
       "<div>\n",
       "<style scoped>\n",
       "    .dataframe tbody tr th:only-of-type {\n",
       "        vertical-align: middle;\n",
       "    }\n",
       "\n",
       "    .dataframe tbody tr th {\n",
       "        vertical-align: top;\n",
       "    }\n",
       "\n",
       "    .dataframe thead th {\n",
       "        text-align: right;\n",
       "    }\n",
       "</style>\n",
       "<table border=\"1\" class=\"dataframe\">\n",
       "  <thead>\n",
       "    <tr style=\"text-align: right;\">\n",
       "      <th></th>\n",
       "      <th>review</th>\n",
       "      <th>sentiment</th>\n",
       "      <th>emotion</th>\n",
       "    </tr>\n",
       "  </thead>\n",
       "  <tbody>\n",
       "    <tr>\n",
       "      <th>0</th>\n",
       "      <td>I had high hopes for the UltraClean vacuum cleaner, but it hardly picks up any dirt. Also, the battery life is abysmal. Not worth the price.</td>\n",
       "      <td>NEGATIVE</td>\n",
       "      <td>disappointment</td>\n",
       "    </tr>\n",
       "    <tr>\n",
       "      <th>1</th>\n",
       "      <td>The SunBurst solar charger was advertised as being highly efficient, but it barely charges my devices. Even under direct sunlight, it takes forever. A complete letdown.</td>\n",
       "      <td>NEGATIVE</td>\n",
       "      <td>disappointment</td>\n",
       "    </tr>\n",
       "    <tr>\n",
       "      <th>2</th>\n",
       "      <td>Bought the AirLite drone, and it's not user-friendly at all. The controls are confusing, and the camera quality is mediocre at best. Wish I had gone for another brand.</td>\n",
       "      <td>NEGATIVE</td>\n",
       "      <td>confusion</td>\n",
       "    </tr>\n",
       "    <tr>\n",
       "      <th>3</th>\n",
       "      <td>Bought the LumiGlow skincare serum a month ago, and the results are visible! My skin feels rejuvenated and the fine lines have reduced. Definitely worth the investment.</td>\n",
       "      <td>POSITIVE</td>\n",
       "      <td>approval</td>\n",
       "    </tr>\n",
       "    <tr>\n",
       "      <th>4</th>\n",
       "      <td>The TerraFit hiking boots are outstanding. They're not only durable but also provide excellent support during long treks. My feet have never felt so comfortable during hikes.</td>\n",
       "      <td>POSITIVE</td>\n",
       "      <td>admiration</td>\n",
       "    </tr>\n",
       "    <tr>\n",
       "      <th>5</th>\n",
       "      <td>I was skeptical about the QuickCook microwave oven initially, but it has surpassed all my expectations. The multi-function features and quick heating technology are truly innovative. A must-have in every kitchen!</td>\n",
       "      <td>POSITIVE</td>\n",
       "      <td>admiration</td>\n",
       "    </tr>\n",
       "    <tr>\n",
       "      <th>6</th>\n",
       "      <td>The Prestige juicer is a disappointment. It constantly gets jammed, and cleaning it is a nightmare. I regret this purchase.</td>\n",
       "      <td>NEGATIVE</td>\n",
       "      <td>disappointment</td>\n",
       "    </tr>\n",
       "    <tr>\n",
       "      <th>7</th>\n",
       "      <td>I recently purchased the AquaBliss water filter, and I'm genuinely impressed! Not only was the installation straightforward, but the water tastes remarkably fresh. Highly recommended for anyone wanting pure drinking water.</td>\n",
       "      <td>POSITIVE</td>\n",
       "      <td>admiration</td>\n",
       "    </tr>\n",
       "    <tr>\n",
       "      <th>8</th>\n",
       "      <td>The SoundWave headphones are a game-changer. They fit comfortably, and the noise-cancellation feature is top-notch. I can finally enjoy my music without any interruptions.</td>\n",
       "      <td>POSITIVE</td>\n",
       "      <td>joy</td>\n",
       "    </tr>\n",
       "    <tr>\n",
       "      <th>9</th>\n",
       "      <td>The GlamorEyes mascara is terrible. It clumps easily and doesn't provide the volume it promises. Definitely won't be repurchasing.</td>\n",
       "      <td>NEGATIVE</td>\n",
       "      <td>disapproval</td>\n",
       "    </tr>\n",
       "    <tr>\n",
       "      <th>10</th>\n",
       "      <td>The StreamLine smartwatch is a fantastic addition to my tech collection. It tracks my health metrics accurately, and the battery life is commendable. It's stylish and functional.</td>\n",
       "      <td>POSITIVE</td>\n",
       "      <td>admiration</td>\n",
       "    </tr>\n",
       "    <tr>\n",
       "      <th>11</th>\n",
       "      <td>I've been using the SilkSoft hair conditioner for the past two weeks, and my hair has never felt better. It's silky, tangle-free, and smells divine. Highly recommend for those with frizzy hair.</td>\n",
       "      <td>POSITIVE</td>\n",
       "      <td>admiration</td>\n",
       "    </tr>\n",
       "    <tr>\n",
       "      <th>12</th>\n",
       "      <td>The LuxeShine nail polish chips easily and doesn't last more than a day. The colors are lovely, but the quality leaves much to be desired.</td>\n",
       "      <td>NEGATIVE</td>\n",
       "      <td>admiration</td>\n",
       "    </tr>\n",
       "    <tr>\n",
       "      <th>13</th>\n",
       "      <td>Tried the PowerPulse wireless earbuds, and they keep disconnecting randomly. The sound quality is also underwhelming. Not what I expected for the price.</td>\n",
       "      <td>NEGATIVE</td>\n",
       "      <td>disappointment</td>\n",
       "    </tr>\n",
       "    <tr>\n",
       "      <th>14</th>\n",
       "      <td>The ZoomDrive USB stick is both compact and efficient. Transferring files has never been faster, and its durable design ensures I don't have to worry about data loss.</td>\n",
       "      <td>POSITIVE</td>\n",
       "      <td>approval</td>\n",
       "    </tr>\n",
       "    <tr>\n",
       "      <th>15</th>\n",
       "      <td>Opted for the FreshBreeze air purifier, and it has made a noticeable difference in my home. Allergies are at bay, and the air feels cleaner and fresher.</td>\n",
       "      <td>POSITIVE</td>\n",
       "      <td>approval</td>\n",
       "    </tr>\n",
       "    <tr>\n",
       "      <th>16</th>\n",
       "      <td>The ClearVue window cleaner left streaks on my windows. I had to redo the cleaning with another product. It's more hassle than it's worth.</td>\n",
       "      <td>NEGATIVE</td>\n",
       "      <td>neutral</td>\n",
       "    </tr>\n",
       "    <tr>\n",
       "      <th>17</th>\n",
       "      <td>The MegaGrill BBQ set looked sturdy online, but in reality, it's flimsy and poorly constructed. Cooking on it has been a challenge.</td>\n",
       "      <td>NEGATIVE</td>\n",
       "      <td>disappointment</td>\n",
       "    </tr>\n",
       "    <tr>\n",
       "      <th>18</th>\n",
       "      <td>The UrbanWalk sneakers are not only trendy but also incredibly comfortable. I've worn them for both workouts and casual outings, and they've been perfect for both.</td>\n",
       "      <td>POSITIVE</td>\n",
       "      <td>approval</td>\n",
       "    </tr>\n",
       "    <tr>\n",
       "      <th>19</th>\n",
       "      <td>The SwiftWrite pen set is not worth the money. The ink smudges, and the pens run out way too quickly. I'll be looking for alternatives.</td>\n",
       "      <td>NEGATIVE</td>\n",
       "      <td>disapproval</td>\n",
       "    </tr>\n",
       "  </tbody>\n",
       "</table>\n",
       "</div>"
      ],
      "text/plain": [
       "                                                                                                                                                                                                                            review  \\\n",
       "0                                                                                     I had high hopes for the UltraClean vacuum cleaner, but it hardly picks up any dirt. Also, the battery life is abysmal. Not worth the price.   \n",
       "1                                                         The SunBurst solar charger was advertised as being highly efficient, but it barely charges my devices. Even under direct sunlight, it takes forever. A complete letdown.   \n",
       "2                                                          Bought the AirLite drone, and it's not user-friendly at all. The controls are confusing, and the camera quality is mediocre at best. Wish I had gone for another brand.   \n",
       "3                                                         Bought the LumiGlow skincare serum a month ago, and the results are visible! My skin feels rejuvenated and the fine lines have reduced. Definitely worth the investment.   \n",
       "4                                                   The TerraFit hiking boots are outstanding. They're not only durable but also provide excellent support during long treks. My feet have never felt so comfortable during hikes.   \n",
       "5             I was skeptical about the QuickCook microwave oven initially, but it has surpassed all my expectations. The multi-function features and quick heating technology are truly innovative. A must-have in every kitchen!   \n",
       "6                                                                                                      The Prestige juicer is a disappointment. It constantly gets jammed, and cleaning it is a nightmare. I regret this purchase.   \n",
       "7   I recently purchased the AquaBliss water filter, and I'm genuinely impressed! Not only was the installation straightforward, but the water tastes remarkably fresh. Highly recommended for anyone wanting pure drinking water.   \n",
       "8                                                      The SoundWave headphones are a game-changer. They fit comfortably, and the noise-cancellation feature is top-notch. I can finally enjoy my music without any interruptions.   \n",
       "9                                                                                               The GlamorEyes mascara is terrible. It clumps easily and doesn't provide the volume it promises. Definitely won't be repurchasing.   \n",
       "10                                              The StreamLine smartwatch is a fantastic addition to my tech collection. It tracks my health metrics accurately, and the battery life is commendable. It's stylish and functional.   \n",
       "11                               I've been using the SilkSoft hair conditioner for the past two weeks, and my hair has never felt better. It's silky, tangle-free, and smells divine. Highly recommend for those with frizzy hair.   \n",
       "12                                                                                      The LuxeShine nail polish chips easily and doesn't last more than a day. The colors are lovely, but the quality leaves much to be desired.   \n",
       "13                                                                        Tried the PowerPulse wireless earbuds, and they keep disconnecting randomly. The sound quality is also underwhelming. Not what I expected for the price.   \n",
       "14                                                          The ZoomDrive USB stick is both compact and efficient. Transferring files has never been faster, and its durable design ensures I don't have to worry about data loss.   \n",
       "15                                                                        Opted for the FreshBreeze air purifier, and it has made a noticeable difference in my home. Allergies are at bay, and the air feels cleaner and fresher.   \n",
       "16                                                                                      The ClearVue window cleaner left streaks on my windows. I had to redo the cleaning with another product. It's more hassle than it's worth.   \n",
       "17                                                                                             The MegaGrill BBQ set looked sturdy online, but in reality, it's flimsy and poorly constructed. Cooking on it has been a challenge.   \n",
       "18                                                             The UrbanWalk sneakers are not only trendy but also incredibly comfortable. I've worn them for both workouts and casual outings, and they've been perfect for both.   \n",
       "19                                                                                         The SwiftWrite pen set is not worth the money. The ink smudges, and the pens run out way too quickly. I'll be looking for alternatives.   \n",
       "\n",
       "   sentiment         emotion  \n",
       "0   NEGATIVE  disappointment  \n",
       "1   NEGATIVE  disappointment  \n",
       "2   NEGATIVE       confusion  \n",
       "3   POSITIVE        approval  \n",
       "4   POSITIVE      admiration  \n",
       "5   POSITIVE      admiration  \n",
       "6   NEGATIVE  disappointment  \n",
       "7   POSITIVE      admiration  \n",
       "8   POSITIVE             joy  \n",
       "9   NEGATIVE     disapproval  \n",
       "10  POSITIVE      admiration  \n",
       "11  POSITIVE      admiration  \n",
       "12  NEGATIVE      admiration  \n",
       "13  NEGATIVE  disappointment  \n",
       "14  POSITIVE        approval  \n",
       "15  POSITIVE        approval  \n",
       "16  NEGATIVE         neutral  \n",
       "17  NEGATIVE  disappointment  \n",
       "18  POSITIVE        approval  \n",
       "19  NEGATIVE     disapproval  "
      ]
     },
     "execution_count": 18,
     "metadata": {},
     "output_type": "execute_result"
    }
   ],
   "source": [
    "review_df"
   ]
  },
  {
   "cell_type": "code",
   "execution_count": 19,
   "metadata": {
    "id": "a_tAMKok_EAg"
   },
   "outputs": [
    {
     "data": {
      "image/png": "[encoded data removed]",
      "text/plain": [
       "<Figure size 640x480 with 1 Axes>"
      ]
     },
     "metadata": {},
     "output_type": "display_data"
    }
   ],
   "source": [
    "review_df['sentiment'].value_counts().plot(kind='bar');"
   ]
  },
  {
   "cell_type": "code",
   "execution_count": 20,
   "metadata": {
    "id": "HOhZfhuW_IPr"
   },
   "outputs": [
    {
     "data": {
      "image/png": "[encoded data removed]",
      "text/plain": [
       "<Figure size 640x480 with 1 Axes>"
      ]
     },
     "metadata": {},
     "output_type": "display_data"
    }
   ],
   "source": [
    "review_df['emotion'].value_counts().plot(kind='bar');"
   ]
  },
  {
   "cell_type": "markdown",
   "metadata": {
    "id": "7UDpMwXEGXbs"
   },
   "source": [
    "# 2. Medical Report Q&A and Summary\n",
    "\n",
    "Scenario: You are working for a healthcare company and you need to quickly create a report summary for a brain cancer report and also test the feasibility of a chatbot.\n",
    "\n",
    "## Your Turn:\n",
    "\n",
    "Use the models mentioned below and try Q&A and Summarization"
   ]
  },
  {
   "cell_type": "markdown",
   "metadata": {
    "id": "qIvUFEVarl_s"
   },
   "source": [
    "### Question Answering\n",
    "\n",
    "Use the model and the context report provided and ask the following questions and see what answers you get\n",
    "\n",
    "1. What is cancer?\n",
    "2. What is brain cancer?\n",
    "3. What are traditional methods to detect brain cancer?\n",
    "4. What is Magnetic Resonance Imaging?\n",
    "5. What is biopsy?\n",
    "6. What can AI do for brain cancer?\n",
    "7. How can deep learning be used for brain cancer?"
   ]
  },
  {
   "cell_type": "code",
   "execution_count": 21,
   "metadata": {
    "id": "ND_8LzQKrl_u",
    "pycharm": {
     "is_executing": false,
     "name": "#%% code\n"
    }
   },
   "outputs": [
    {
     "data": {
      "application/vnd.jupyter.widget-view+json": {
       "model_id": "e8aff78cec5845b4b4a5c871f44701b2",
       "version_major": 2,
       "version_minor": 0
      },
      "text/plain": [
       "config.json:   0%|          | 0.00/571 [00:00<?, ?B/s]"
      ]
     },
     "metadata": {},
     "output_type": "display_data"
    },
    {
     "data": {
      "application/vnd.jupyter.widget-view+json": {
       "model_id": "48848437a1cc4b4fbe43bf4951ab4e53",
       "version_major": 2,
       "version_minor": 0
      },
      "text/plain": [
       "model.safetensors:   0%|          | 0.00/496M [00:00<?, ?B/s]"
      ]
     },
     "metadata": {},
     "output_type": "display_data"
    },
    {
     "data": {
      "application/vnd.jupyter.widget-view+json": {
       "model_id": "5dc2e1d8b72149979eb81e58ea97c6b0",
       "version_major": 2,
       "version_minor": 0
      },
      "text/plain": [
       "tokenizer_config.json:   0%|          | 0.00/79.0 [00:00<?, ?B/s]"
      ]
     },
     "metadata": {},
     "output_type": "display_data"
    },
    {
     "data": {
      "application/vnd.jupyter.widget-view+json": {
       "model_id": "9b56ec5198724a108b1967ec3cde27ea",
       "version_major": 2,
       "version_minor": 0
      },
      "text/plain": [
       "vocab.json:   0%|          | 0.00/899k [00:00<?, ?B/s]"
      ]
     },
     "metadata": {},
     "output_type": "display_data"
    },
    {
     "data": {
      "application/vnd.jupyter.widget-view+json": {
       "model_id": "561c9cc4b1144dcdbd54935dcf433511",
       "version_major": 2,
       "version_minor": 0
      },
      "text/plain": [
       "merges.txt:   0%|          | 0.00/456k [00:00<?, ?B/s]"
      ]
     },
     "metadata": {},
     "output_type": "display_data"
    },
    {
     "data": {
      "application/vnd.jupyter.widget-view+json": {
       "model_id": "70c442e08f3848bf89d7f5250fe00b2d",
       "version_major": 2,
       "version_minor": 0
      },
      "text/plain": [
       "special_tokens_map.json:   0%|          | 0.00/772 [00:00<?, ?B/s]"
      ]
     },
     "metadata": {},
     "output_type": "display_data"
    }
   ],
   "source": [
    "nlp_qa = pipeline('question-answering',\n",
    "                  model='deepset/roberta-base-squad2',\n",
    "                  device=0)"
   ]
  },
  {
   "cell_type": "code",
   "execution_count": 22,
   "metadata": {
    "id": "hWplEBq6ZrTt"
   },
   "outputs": [],
   "source": [
    "context = \"\"\"\n",
    "Cancer Detection for the Brain: An Overview of Modern Methods and the Role of Computer Vision\n",
    "\n",
    "Cancer, a group of diseases characterized by the uncontrolled growth and spread of abnormal cells, has long been a significant concern in medical science. Among the various types of cancer, brain cancer is particularly alarming due to its location in the central nervous system. Detecting brain cancer early is crucial, as it significantly improves the chances of successful treatment and patient survival. This essay will delve into the methods available for detecting brain cancer, emphasizing early detection techniques and the growing role of computer vision in this arena.\n",
    "\n",
    "1. Traditional Detection Methods:\n",
    "a. Magnetic Resonance Imaging (MRI): This is the most commonly used technique for diagnosing brain tumors. MRI uses powerful magnets and radio waves to produce detailed images of the brain. These images can help identify abnormal growths, which may then be biopsied for confirmation.\n",
    "\n",
    "b. Computed Tomography (CT) Scan: Although not as detailed as MRI, CT scans are faster and can provide valuable information about the presence and location of tumors. They use X-rays to produce cross-sectional images of the brain.\n",
    "\n",
    "c. Biopsy: A biopsy is the removal of a small amount of tissue for examination under a microscope. This is the most definitive way to diagnose cancer. Surgeons usually perform biopsies using a needle or during surgery.\n",
    "\n",
    "2. Early Detection Techniques:\n",
    "a. Advanced Imaging: Advanced MRI techniques, such as functional MRI (fMRI) and magnetic resonance spectroscopy (MRS), can detect early changes in the brain's functionality or chemistry, even before a tumor becomes apparent.\n",
    "\n",
    "b. Liquid Biopsy: This is a non-invasive method where doctors test the blood for tiny fragments of DNA shed by cancer cells. While still in the research phase for brain cancer, it holds promise for early detection.\n",
    "\n",
    "c. Neurological Exams: Regular neurological exams can catch subtle changes in brain function, such as coordination, memory, or reflexes, which might be indicative of a developing tumor.\n",
    "\n",
    "3. Computer Vision and Brain Cancer Detection:\n",
    "With the advancement of artificial intelligence (AI) and machine learning, computer vision has emerged as a potent tool in the medical field, especially in cancer detection.\n",
    "\n",
    "a. Image Segmentation: Computer vision algorithms can segment MRI or CT scan images to highlight potential tumor regions accurately. This can be particularly useful in identifying small tumors that might be overlooked by the human eye.\n",
    "\n",
    "b. Predictive Analysis: Using vast datasets, computer vision systems can predict the likelihood of a tumor being malignant or benign. This assists doctors in deciding whether a biopsy is necessary.\n",
    "\n",
    "c. Automated Monitoring: By comparing current images with previous scans, computer vision can detect minute changes over time, enabling the identification of tumors at a very early stage.\n",
    "\n",
    "d. Enhanced Visualization: Computer vision can enhance the visualization of scans, making it easier for radiologists to interpret the results. Techniques like deep learning can amplify the differences between healthy and cancerous tissues.\n",
    "\n",
    "In conclusion, while traditional methods of brain cancer detection remain foundational, the integration of modern techniques, especially computer vision, is revolutionizing the early detection and diagnosis of this life-threatening disease. The synergy of human expertise and machine precision promises a brighter future for patients at risk of brain cancer. As research progresses and technology becomes more advanced, we can anticipate even more accurate and early detection methods, potentially saving countless lives.\n",
    "\"\"\""
   ]
  },
  {
   "cell_type": "code",
   "execution_count": 23,
   "metadata": {
    "id": "sgnBjoVvafqF"
   },
   "outputs": [
    {
     "data": {
      "text/plain": [
       "{'score': 0.4445130527019501,\n",
       " 'start': 104,\n",
       " 'end': 193,\n",
       " 'answer': 'a group of diseases characterized by the uncontrolled growth and spread of abnormal cells'}"
      ]
     },
     "execution_count": 23,
     "metadata": {},
     "output_type": "execute_result"
    }
   ],
   "source": [
    "nlp_qa(context=context, question='What is cancer?')"
   ]
  },
  {
   "cell_type": "code",
   "execution_count": 24,
   "metadata": {
    "id": "2IDudp4TalZ0"
   },
   "outputs": [
    {
     "data": {
      "text/plain": [
       "{'score': 0.012176652438938618,\n",
       " 'start': 3409,\n",
       " 'end': 3433,\n",
       " 'answer': 'life-threatening disease'}"
      ]
     },
     "execution_count": 24,
     "metadata": {},
     "output_type": "execute_result"
    }
   ],
   "source": [
    "nlp_qa(context=context, question='What is brain cancer?')"
   ]
  },
  {
   "cell_type": "code",
   "execution_count": 25,
   "metadata": {
    "id": "uZQIFG2Sao9t"
   },
   "outputs": [
    {
     "data": {
      "text/plain": [
       "{'score': 0.39552855491638184,\n",
       " 'start': 712,\n",
       " 'end': 745,\n",
       " 'answer': 'Magnetic Resonance Imaging (MRI):'}"
      ]
     },
     "execution_count": 25,
     "metadata": {},
     "output_type": "execute_result"
    }
   ],
   "source": [
    "nlp_qa(context=context, question='What are traditional methods to detect brain cancer?')"
   ]
  },
  {
   "cell_type": "code",
   "execution_count": 26,
   "metadata": {
    "id": "95ehmGq6bDID"
   },
   "outputs": [
    {
     "data": {
      "text/plain": [
       "{'score': 0.23268187046051025,\n",
       " 'start': 754,\n",
       " 'end': 814,\n",
       " 'answer': 'the most commonly used technique for diagnosing brain tumors'}"
      ]
     },
     "execution_count": 26,
     "metadata": {},
     "output_type": "execute_result"
    }
   ],
   "source": [
    "nlp_qa(context=context, question='What is Magnetic Resonance Imaging?')"
   ]
  },
  {
   "cell_type": "code",
   "execution_count": 27,
   "metadata": {
    "id": "uy2DUQSSa4qT"
   },
   "outputs": [
    {
     "data": {
      "text/plain": [
       "{'score': 0.23603910207748413,\n",
       " 'start': 1249,\n",
       " 'end': 1323,\n",
       " 'answer': 'the removal of a small amount of tissue for examination under a microscope'}"
      ]
     },
     "execution_count": 27,
     "metadata": {},
     "output_type": "execute_result"
    }
   ],
   "source": [
    "nlp_qa(context=context, question='What is biopsy?')"
   ]
  },
  {
   "cell_type": "code",
   "execution_count": 28,
   "metadata": {
    "id": "eZKDWbfBCuUv"
   },
   "outputs": [
    {
     "data": {
      "text/plain": [
       "{'score': 0.017013605684041977,\n",
       " 'start': 3351,\n",
       " 'end': 3400,\n",
       " 'answer': 'revolutionizing the early detection and diagnosis'}"
      ]
     },
     "execution_count": 28,
     "metadata": {},
     "output_type": "execute_result"
    }
   ],
   "source": [
    "nlp_qa(context=context, question='What can AI do for brain cancer?')"
   ]
  },
  {
   "cell_type": "code",
   "execution_count": 29,
   "metadata": {
    "id": "9W9cjmApC6ni"
   },
   "outputs": [
    {
     "data": {
      "text/plain": [
       "{'score': 0.17081789672374725,\n",
       " 'start': 3130,\n",
       " 'end': 3191,\n",
       " 'answer': 'amplify the differences between healthy and cancerous tissues'}"
      ]
     },
     "execution_count": 29,
     "metadata": {},
     "output_type": "execute_result"
    }
   ],
   "source": [
    "nlp_qa(context=context, question='How can deep learning be used for brain cancer?')"
   ]
  },
  {
   "cell_type": "markdown",
   "metadata": {
    "id": "Fbs9t1KvrzDy"
   },
   "source": [
    "### Summarization\n",
    "\n",
    "Use the model mentioned below and summarize the brain cancer report from above"
   ]
  },
  {
   "cell_type": "code",
   "execution_count": 30,
   "metadata": {
    "id": "streAal1byjl"
   },
   "outputs": [
    {
     "data": {
      "application/vnd.jupyter.widget-view+json": {
       "model_id": "5a8490e2b50447159980dd47457bcca8",
       "version_major": 2,
       "version_minor": 0
      },
      "text/plain": [
       "config.json:   0%|          | 0.00/1.63k [00:00<?, ?B/s]"
      ]
     },
     "metadata": {},
     "output_type": "display_data"
    },
    {
     "data": {
      "application/vnd.jupyter.widget-view+json": {
       "model_id": "08ec2cb312e4416697219552adeea3bb",
       "version_major": 2,
       "version_minor": 0
      },
      "text/plain": [
       "pytorch_model.bin:   0%|          | 0.00/1.63G [00:00<?, ?B/s]"
      ]
     },
     "metadata": {},
     "output_type": "display_data"
    },
    {
     "data": {
      "application/vnd.jupyter.widget-view+json": {
       "model_id": "b1925a8baca04f51b76423783c77e811",
       "version_major": 2,
       "version_minor": 0
      },
      "text/plain": [
       "tokenizer_config.json:   0%|          | 0.00/300 [00:00<?, ?B/s]"
      ]
     },
     "metadata": {},
     "output_type": "display_data"
    },
    {
     "data": {
      "application/vnd.jupyter.widget-view+json": {
       "model_id": "a0b93aad271442189281b368a6c9d914",
       "version_major": 2,
       "version_minor": 0
      },
      "text/plain": [
       "vocab.json:   0%|          | 0.00/798k [00:00<?, ?B/s]"
      ]
     },
     "metadata": {},
     "output_type": "display_data"
    },
    {
     "data": {
      "application/vnd.jupyter.widget-view+json": {
       "model_id": "d1a8de5966124849b222f5af08db76f2",
       "version_major": 2,
       "version_minor": 0
      },
      "text/plain": [
       "merges.txt:   0%|          | 0.00/456k [00:00<?, ?B/s]"
      ]
     },
     "metadata": {},
     "output_type": "display_data"
    },
    {
     "data": {
      "application/vnd.jupyter.widget-view+json": {
       "model_id": "faef53b43669496d9717688188aee4a4",
       "version_major": 2,
       "version_minor": 0
      },
      "text/plain": [
       "special_tokens_map.json:   0%|          | 0.00/239 [00:00<?, ?B/s]"
      ]
     },
     "metadata": {},
     "output_type": "display_data"
    }
   ],
   "source": [
    "summarizer = pipeline('summarization',\n",
    "                      model='philschmid/bart-large-cnn-samsum',\n",
    "                      device=0)"
   ]
  },
  {
   "cell_type": "code",
   "execution_count": 31,
   "metadata": {
    "id": "8BaOgzi1u1Yc"
   },
   "outputs": [],
   "source": [
    "result = summarizer(context)"
   ]
  },
  {
   "cell_type": "code",
   "execution_count": 32,
   "metadata": {
    "id": "1x2scDHTAU96"
   },
   "outputs": [
    {
     "data": {
      "text/plain": [
       "[{'summary_text': 'Brain cancer is a cancer of the central nervous system. Detecting it early improves the chances of successful treatment and patient survival. Magnetic Resonance Imaging (MRI) is the most commonly used technique for diagnosing brain tumors. Computed tomography (CT) scans are faster and provide valuable information about the presence and location of tumors. Liquid biopsy is a non-invasive method where doctors test the blood for tiny fragments of DNA shed by cancer cells. Neurological exams can detect subtle changes in brain function. Computer vision has emerged as a potent tool in the medical field.'}]"
      ]
     },
     "execution_count": 32,
     "metadata": {},
     "output_type": "execute_result"
    }
   ],
   "source": [
    "result"
   ]
  },
  {
   "cell_type": "code",
   "execution_count": 33,
   "metadata": {
    "id": "mVjBuQqAd28Y"
   },
   "outputs": [
    {
     "data": {
      "text/plain": [
       "'Brain cancer is a cancer of the central nervous system. Detecting it early improves the chances of successful treatment and patient survival. Magnetic Resonance Imaging (MRI) is the most commonly used technique for diagnosing brain tumors. Computed tomography (CT) scans are faster and provide valuable information about the presence and location of tumors. Liquid biopsy is a non-invasive method where doctors test the blood for tiny fragments of DNA shed by cancer cells. Neurological exams can detect subtle changes in brain function. Computer vision has emerged as a potent tool in the medical field.'"
      ]
     },
     "metadata": {},
     "output_type": "display_data"
    }
   ],
   "source": [
    "from IPython.display import Markdown, display\n",
    "\n",
    "summary = result[0]['summary_text']\n",
    "display(summary)"
   ]
  },
  {
   "cell_type": "markdown",
   "metadata": {
    "id": "qPUpg0M8hCtB"
   },
   "source": [
    "# 3. News Categorization\n",
    "\n",
    "Scenario: You are working for a news website who wants to stop frustrated people from sitting and manually categorizing news articles in specific category sections in its website, so they can help with creating more content and be happy!\n",
    "\n",
    "Here you as an AI expert will try to use a zero-shot transformer LLM to do news categorization for three major news categories - sports, business and technology."
   ]
  },
  {
   "cell_type": "markdown",
   "metadata": {
    "id": "lNacBYYuVSem"
   },
   "source": [
    "## Example Demo:"
   ]
  },
  {
   "cell_type": "markdown",
   "metadata": {
    "id": "PwT9Ue2ZVUfd"
   },
   "source": [
    "### Load the zero shot model"
   ]
  },
  {
   "cell_type": "code",
   "execution_count": 34,
   "metadata": {
    "id": "5pKfxTxohXuZ"
   },
   "outputs": [
    {
     "name": "stderr",
     "output_type": "stream",
     "text": [
      "No model was supplied, defaulted to facebook/bart-large-mnli and revision c626438 (https://huggingface.co/facebook/bart-large-mnli).\n",
      "Using a pipeline without specifying a model name and revision in production is not recommended.\n"
     ]
    },
    {
     "data": {
      "application/vnd.jupyter.widget-view+json": {
       "model_id": "12c03deb523a4c908879348091555647",
       "version_major": 2,
       "version_minor": 0
      },
      "text/plain": [
       "config.json:   0%|          | 0.00/1.15k [00:00<?, ?B/s]"
      ]
     },
     "metadata": {},
     "output_type": "display_data"
    },
    {
     "data": {
      "application/vnd.jupyter.widget-view+json": {
       "model_id": "7a85b4742abb4b29909beb70350cbaaf",
       "version_major": 2,
       "version_minor": 0
      },
      "text/plain": [
       "model.safetensors:   0%|          | 0.00/1.63G [00:00<?, ?B/s]"
      ]
     },
     "metadata": {},
     "output_type": "display_data"
    },
    {
     "data": {
      "application/vnd.jupyter.widget-view+json": {
       "model_id": "720aa56d81024f5898b86e0be175fed0",
       "version_major": 2,
       "version_minor": 0
      },
      "text/plain": [
       "tokenizer_config.json:   0%|          | 0.00/26.0 [00:00<?, ?B/s]"
      ]
     },
     "metadata": {},
     "output_type": "display_data"
    },
    {
     "data": {
      "application/vnd.jupyter.widget-view+json": {
       "model_id": "ab2f856286ea4ca4a5288537ced8dc0f",
       "version_major": 2,
       "version_minor": 0
      },
      "text/plain": [
       "vocab.json:   0%|          | 0.00/899k [00:00<?, ?B/s]"
      ]
     },
     "metadata": {},
     "output_type": "display_data"
    },
    {
     "data": {
      "application/vnd.jupyter.widget-view+json": {
       "model_id": "617bcae3289c4b9991d8e2c85a0d4fbb",
       "version_major": 2,
       "version_minor": 0
      },
      "text/plain": [
       "merges.txt:   0%|          | 0.00/456k [00:00<?, ?B/s]"
      ]
     },
     "metadata": {},
     "output_type": "display_data"
    },
    {
     "data": {
      "application/vnd.jupyter.widget-view+json": {
       "model_id": "09f2ca9122d549168fccc8054d166a00",
       "version_major": 2,
       "version_minor": 0
      },
      "text/plain": [
       "tokenizer.json:   0%|          | 0.00/1.36M [00:00<?, ?B/s]"
      ]
     },
     "metadata": {},
     "output_type": "display_data"
    }
   ],
   "source": [
    "categorizer = pipeline('zero-shot-classification',\n",
    "                       device=0)"
   ]
  },
  {
   "cell_type": "markdown",
   "metadata": {
    "id": "G5uPYmLZVXK3"
   },
   "source": [
    "### View the sample news articles"
   ]
  },
  {
   "cell_type": "code",
   "execution_count": 35,
   "metadata": {
    "id": "-rzw9_QIQwwi"
   },
   "outputs": [
    {
     "data": {
      "text/html": [
       "<div>\n",
       "<style scoped>\n",
       "    .dataframe tbody tr th:only-of-type {\n",
       "        vertical-align: middle;\n",
       "    }\n",
       "\n",
       "    .dataframe tbody tr th {\n",
       "        vertical-align: top;\n",
       "    }\n",
       "\n",
       "    .dataframe thead th {\n",
       "        text-align: right;\n",
       "    }\n",
       "</style>\n",
       "<table border=\"1\" class=\"dataframe\">\n",
       "  <thead>\n",
       "    <tr style=\"text-align: right;\">\n",
       "      <th></th>\n",
       "      <th>news_article</th>\n",
       "      <th>actual_category</th>\n",
       "    </tr>\n",
       "  </thead>\n",
       "  <tbody>\n",
       "    <tr>\n",
       "      <th>0</th>\n",
       "      <td>Riverside Roarers clinch victory in the regional football finals!</td>\n",
       "      <td>sports</td>\n",
       "    </tr>\n",
       "    <tr>\n",
       "      <th>1</th>\n",
       "      <td>Tech giant NeoTech announces its latest smartphone, the NeoTech Ultra.</td>\n",
       "      <td>technology</td>\n",
       "    </tr>\n",
       "    <tr>\n",
       "      <th>2</th>\n",
       "      <td>Stock markets see a steady rise, with BlueChip Enterprises leading the rally.</td>\n",
       "      <td>business</td>\n",
       "    </tr>\n",
       "    <tr>\n",
       "      <th>3</th>\n",
       "      <td>InnovateSoft unveils a groundbreaking app that aids remote learning.</td>\n",
       "      <td>technology</td>\n",
       "    </tr>\n",
       "    <tr>\n",
       "      <th>4</th>\n",
       "      <td>Commodities market shaken as precious metal prices fluctuate unexpectedly.</td>\n",
       "      <td>business</td>\n",
       "    </tr>\n",
       "  </tbody>\n",
       "</table>\n",
       "</div>"
      ],
      "text/plain": [
       "                                                                    news_article  \\\n",
       "0              Riverside Roarers clinch victory in the regional football finals!   \n",
       "1         Tech giant NeoTech announces its latest smartphone, the NeoTech Ultra.   \n",
       "2  Stock markets see a steady rise, with BlueChip Enterprises leading the rally.   \n",
       "3           InnovateSoft unveils a groundbreaking app that aids remote learning.   \n",
       "4     Commodities market shaken as precious metal prices fluctuate unexpectedly.   \n",
       "\n",
       "  actual_category  \n",
       "0          sports  \n",
       "1      technology  \n",
       "2        business  \n",
       "3      technology  \n",
       "4        business  "
      ]
     },
     "execution_count": 35,
     "metadata": {},
     "output_type": "execute_result"
    }
   ],
   "source": [
    "# Sample data with fictitious names for 5 articles\n",
    "data = {\n",
    "    \"news_article\": [\n",
    "        \"Riverside Roarers clinch victory in the regional football finals!\",\n",
    "        \"Tech giant NeoTech announces its latest smartphone, the NeoTech Ultra.\",\n",
    "        \"Stock markets see a steady rise, with BlueChip Enterprises leading the rally.\",\n",
    "        \"InnovateSoft unveils a groundbreaking app that aids remote learning.\",\n",
    "        \"Commodities market shaken as precious metal prices fluctuate unexpectedly.\"\n",
    "    ],\n",
    "    \"actual_category\": [\n",
    "        \"sports\",\n",
    "        \"technology\",\n",
    "        \"business\",\n",
    "        \"technology\",\n",
    "        \"business\"\n",
    "    ]\n",
    "}\n",
    "\n",
    "# Creating the dataframe\n",
    "df = pd.DataFrame(data)\n",
    "df"
   ]
  },
  {
   "cell_type": "markdown",
   "metadata": {
    "id": "k2R2Yo8jVan7"
   },
   "source": [
    "### Perform text categorization"
   ]
  },
  {
   "cell_type": "code",
   "execution_count": 36,
   "metadata": {
    "id": "IhNjd338m7wh"
   },
   "outputs": [],
   "source": [
    "news_categories = ['sports', 'business', 'technology']"
   ]
  },
  {
   "cell_type": "code",
   "execution_count": 37,
   "metadata": {
    "id": "WdAdSBiZRzuw"
   },
   "outputs": [
    {
     "data": {
      "text/plain": [
       "array(['Riverside Roarers clinch victory in the regional football finals!',\n",
       "       'Tech giant NeoTech announces its latest smartphone, the NeoTech Ultra.',\n",
       "       'Stock markets see a steady rise, with BlueChip Enterprises leading the rally.',\n",
       "       'InnovateSoft unveils a groundbreaking app that aids remote learning.',\n",
       "       'Commodities market shaken as precious metal prices fluctuate unexpectedly.'],\n",
       "      dtype=object)"
      ]
     },
     "execution_count": 37,
     "metadata": {},
     "output_type": "execute_result"
    }
   ],
   "source": [
    "articles = df['news_article'].values\n",
    "articles"
   ]
  },
  {
   "cell_type": "code",
   "execution_count": 38,
   "metadata": {
    "id": "ADvdpGrvR5G1"
   },
   "outputs": [
    {
     "data": {
      "text/plain": [
       "'Riverside Roarers clinch victory in the regional football finals!'"
      ]
     },
     "execution_count": 38,
     "metadata": {},
     "output_type": "execute_result"
    }
   ],
   "source": [
    "articles[0]"
   ]
  },
  {
   "cell_type": "code",
   "execution_count": 39,
   "metadata": {
    "id": "Da9lEVzmRqF1"
   },
   "outputs": [
    {
     "data": {
      "text/plain": [
       "{'sequence': 'Riverside Roarers clinch victory in the regional football finals!',\n",
       " 'labels': ['sports', 'business', 'technology'],\n",
       " 'scores': [0.9658721089363098, 0.02584036812186241, 0.008287522941827774]}"
      ]
     },
     "execution_count": 39,
     "metadata": {},
     "output_type": "execute_result"
    }
   ],
   "source": [
    "categorizer(articles[0], news_categories)"
   ]
  },
  {
   "cell_type": "code",
   "execution_count": 40,
   "metadata": {
    "id": "YKSpJzU4R9HH"
   },
   "outputs": [
    {
     "data": {
      "text/plain": [
       "'sports'"
      ]
     },
     "execution_count": 40,
     "metadata": {},
     "output_type": "execute_result"
    }
   ],
   "source": [
    "categorizer(articles, news_categories)['labels'][0]"
   ]
  },
  {
   "cell_type": "code",
   "execution_count": 41,
   "metadata": {
    "id": "fd_lMJ_-fchm"
   },
   "outputs": [
    {
     "data": {
      "text/plain": [
       "['sports', 'technology', 'business', 'technology', 'business']"
      ]
     },
     "execution_count": 41,
     "metadata": {},
     "output_type": "execute_result"
    }
   ],
   "source": [
    "predicted_categories = []\n",
    "\n",
    "for article in articles:\n",
    "    predicted_categories.append(categorizer(article, news_categories)['labels'][0])\n",
    "\n",
    "predicted_categories"
   ]
  },
  {
   "cell_type": "markdown",
   "metadata": {
    "id": "vj3KADuWVe-P"
   },
   "source": [
    "### Compare human labeled and AI model labeled categories"
   ]
  },
  {
   "cell_type": "code",
   "execution_count": 42,
   "metadata": {
    "id": "A9pOS1QagYx_"
   },
   "outputs": [
    {
     "data": {
      "text/html": [
       "<div>\n",
       "<style scoped>\n",
       "    .dataframe tbody tr th:only-of-type {\n",
       "        vertical-align: middle;\n",
       "    }\n",
       "\n",
       "    .dataframe tbody tr th {\n",
       "        vertical-align: top;\n",
       "    }\n",
       "\n",
       "    .dataframe thead th {\n",
       "        text-align: right;\n",
       "    }\n",
       "</style>\n",
       "<table border=\"1\" class=\"dataframe\">\n",
       "  <thead>\n",
       "    <tr style=\"text-align: right;\">\n",
       "      <th></th>\n",
       "      <th>news_article</th>\n",
       "      <th>actual_category</th>\n",
       "      <th>predicted_category</th>\n",
       "    </tr>\n",
       "  </thead>\n",
       "  <tbody>\n",
       "    <tr>\n",
       "      <th>0</th>\n",
       "      <td>Riverside Roarers clinch victory in the regional football finals!</td>\n",
       "      <td>sports</td>\n",
       "      <td>sports</td>\n",
       "    </tr>\n",
       "    <tr>\n",
       "      <th>1</th>\n",
       "      <td>Tech giant NeoTech announces its latest smartphone, the NeoTech Ultra.</td>\n",
       "      <td>technology</td>\n",
       "      <td>technology</td>\n",
       "    </tr>\n",
       "    <tr>\n",
       "      <th>2</th>\n",
       "      <td>Stock markets see a steady rise, with BlueChip Enterprises leading the rally.</td>\n",
       "      <td>business</td>\n",
       "      <td>business</td>\n",
       "    </tr>\n",
       "    <tr>\n",
       "      <th>3</th>\n",
       "      <td>InnovateSoft unveils a groundbreaking app that aids remote learning.</td>\n",
       "      <td>technology</td>\n",
       "      <td>technology</td>\n",
       "    </tr>\n",
       "    <tr>\n",
       "      <th>4</th>\n",
       "      <td>Commodities market shaken as precious metal prices fluctuate unexpectedly.</td>\n",
       "      <td>business</td>\n",
       "      <td>business</td>\n",
       "    </tr>\n",
       "  </tbody>\n",
       "</table>\n",
       "</div>"
      ],
      "text/plain": [
       "                                                                    news_article  \\\n",
       "0              Riverside Roarers clinch victory in the regional football finals!   \n",
       "1         Tech giant NeoTech announces its latest smartphone, the NeoTech Ultra.   \n",
       "2  Stock markets see a steady rise, with BlueChip Enterprises leading the rally.   \n",
       "3           InnovateSoft unveils a groundbreaking app that aids remote learning.   \n",
       "4     Commodities market shaken as precious metal prices fluctuate unexpectedly.   \n",
       "\n",
       "  actual_category predicted_category  \n",
       "0          sports             sports  \n",
       "1      technology         technology  \n",
       "2        business           business  \n",
       "3      technology         technology  \n",
       "4        business           business  "
      ]
     },
     "execution_count": 42,
     "metadata": {},
     "output_type": "execute_result"
    }
   ],
   "source": [
    "df['predicted_category'] = predicted_categories\n",
    "df"
   ]
  },
  {
   "cell_type": "markdown",
   "metadata": {
    "id": "NUaW5iEAVmSu"
   },
   "source": [
    "## Your turn:\n",
    "\n",
    "For the following news articles, perform the same exercise as shown above"
   ]
  },
  {
   "cell_type": "code",
   "execution_count": 43,
   "metadata": {
    "id": "HxWDt0yqnpPP"
   },
   "outputs": [
    {
     "data": {
      "text/html": [
       "<div>\n",
       "<style scoped>\n",
       "    .dataframe tbody tr th:only-of-type {\n",
       "        vertical-align: middle;\n",
       "    }\n",
       "\n",
       "    .dataframe tbody tr th {\n",
       "        vertical-align: top;\n",
       "    }\n",
       "\n",
       "    .dataframe thead th {\n",
       "        text-align: right;\n",
       "    }\n",
       "</style>\n",
       "<table border=\"1\" class=\"dataframe\">\n",
       "  <thead>\n",
       "    <tr style=\"text-align: right;\">\n",
       "      <th></th>\n",
       "      <th>news_article</th>\n",
       "      <th>actual_category</th>\n",
       "    </tr>\n",
       "  </thead>\n",
       "  <tbody>\n",
       "    <tr>\n",
       "      <th>0</th>\n",
       "      <td>Local team, the Riverside Roarers, wins the national championship!</td>\n",
       "      <td>sports</td>\n",
       "    </tr>\n",
       "    <tr>\n",
       "      <th>1</th>\n",
       "      <td>Olympics postponed due to unforeseen circumstances, world athletes in shock.</td>\n",
       "      <td>sports</td>\n",
       "    </tr>\n",
       "    <tr>\n",
       "      <th>2</th>\n",
       "      <td>New athletic shoes by SportsMaster promise better performance for athletes.</td>\n",
       "      <td>sports</td>\n",
       "    </tr>\n",
       "    <tr>\n",
       "      <th>3</th>\n",
       "      <td>Stock markets hit an all-time high; investors rejoice as GlobalTrade Inc. leads the surge.</td>\n",
       "      <td>business</td>\n",
       "    </tr>\n",
       "    <tr>\n",
       "      <th>4</th>\n",
       "      <td>Tech giant NeoTech set to acquire startup InnovateSoft, sparking industry buzz.</td>\n",
       "      <td>business</td>\n",
       "    </tr>\n",
       "    <tr>\n",
       "      <th>5</th>\n",
       "      <td>Latest quarterly reports show unexpected profits for FinCorp Industries.</td>\n",
       "      <td>business</td>\n",
       "    </tr>\n",
       "    <tr>\n",
       "      <th>6</th>\n",
       "      <td>Revolutionary new AI tech from AIRevolution promises to change the way we work.</td>\n",
       "      <td>technology</td>\n",
       "    </tr>\n",
       "    <tr>\n",
       "      <th>7</th>\n",
       "      <td>Major tech conference TechFest 2023 postponed due to health concerns.</td>\n",
       "      <td>technology</td>\n",
       "    </tr>\n",
       "    <tr>\n",
       "      <th>8</th>\n",
       "      <td>Breakthrough in quantum computing achieved by Pinnacle University researchers.</td>\n",
       "      <td>technology</td>\n",
       "    </tr>\n",
       "    <tr>\n",
       "      <th>9</th>\n",
       "      <td>Financial analysts at MoneyMatters predict a bullish year for commodities, especially gold.</td>\n",
       "      <td>business</td>\n",
       "    </tr>\n",
       "  </tbody>\n",
       "</table>\n",
       "</div>"
      ],
      "text/plain": [
       "                                                                                  news_article  \\\n",
       "0                           Local team, the Riverside Roarers, wins the national championship!   \n",
       "1                 Olympics postponed due to unforeseen circumstances, world athletes in shock.   \n",
       "2                  New athletic shoes by SportsMaster promise better performance for athletes.   \n",
       "3   Stock markets hit an all-time high; investors rejoice as GlobalTrade Inc. leads the surge.   \n",
       "4              Tech giant NeoTech set to acquire startup InnovateSoft, sparking industry buzz.   \n",
       "5                     Latest quarterly reports show unexpected profits for FinCorp Industries.   \n",
       "6              Revolutionary new AI tech from AIRevolution promises to change the way we work.   \n",
       "7                        Major tech conference TechFest 2023 postponed due to health concerns.   \n",
       "8               Breakthrough in quantum computing achieved by Pinnacle University researchers.   \n",
       "9  Financial analysts at MoneyMatters predict a bullish year for commodities, especially gold.   \n",
       "\n",
       "  actual_category  \n",
       "0          sports  \n",
       "1          sports  \n",
       "2          sports  \n",
       "3        business  \n",
       "4        business  \n",
       "5        business  \n",
       "6      technology  \n",
       "7      technology  \n",
       "8      technology  \n",
       "9        business  "
      ]
     },
     "execution_count": 43,
     "metadata": {},
     "output_type": "execute_result"
    }
   ],
   "source": [
    "# Sample data with fictitious names\n",
    "data = {\n",
    "    \"news_article\": [\n",
    "        \"Local team, the Riverside Roarers, wins the national championship!\",\n",
    "        \"Olympics postponed due to unforeseen circumstances, world athletes in shock.\",\n",
    "        \"New athletic shoes by SportsMaster promise better performance for athletes.\",\n",
    "        \"Stock markets hit an all-time high; investors rejoice as GlobalTrade Inc. leads the surge.\",\n",
    "        \"Tech giant NeoTech set to acquire startup InnovateSoft, sparking industry buzz.\",\n",
    "        \"Latest quarterly reports show unexpected profits for FinCorp Industries.\",\n",
    "        \"Revolutionary new AI tech from AIRevolution promises to change the way we work.\",\n",
    "        \"Major tech conference TechFest 2023 postponed due to health concerns.\",\n",
    "        \"Breakthrough in quantum computing achieved by Pinnacle University researchers.\",\n",
    "        \"Financial analysts at MoneyMatters predict a bullish year for commodities, especially gold.\"\n",
    "    ],\n",
    "    \"actual_category\": [\n",
    "        \"sports\",\n",
    "        \"sports\",\n",
    "        \"sports\",\n",
    "        \"business\",\n",
    "        \"business\",\n",
    "        \"business\",\n",
    "        \"technology\",\n",
    "        \"technology\",\n",
    "        \"technology\",\n",
    "        \"business\"\n",
    "    ]\n",
    "}\n",
    "\n",
    "# Creating the dataframe\n",
    "df = pd.DataFrame(data)\n",
    "df"
   ]
  },
  {
   "cell_type": "code",
   "execution_count": 44,
   "metadata": {
    "id": "AQi84iSJ6BQE"
   },
   "outputs": [
    {
     "data": {
      "text/plain": [
       "['sports', 'business', 'technology']"
      ]
     },
     "execution_count": 44,
     "metadata": {},
     "output_type": "execute_result"
    }
   ],
   "source": [
    "news_categories"
   ]
  },
  {
   "cell_type": "code",
   "execution_count": 45,
   "metadata": {
    "id": "Ty6MADLnSlSr"
   },
   "outputs": [
    {
     "data": {
      "text/html": [
       "<div>\n",
       "<style scoped>\n",
       "    .dataframe tbody tr th:only-of-type {\n",
       "        vertical-align: middle;\n",
       "    }\n",
       "\n",
       "    .dataframe tbody tr th {\n",
       "        vertical-align: top;\n",
       "    }\n",
       "\n",
       "    .dataframe thead th {\n",
       "        text-align: right;\n",
       "    }\n",
       "</style>\n",
       "<table border=\"1\" class=\"dataframe\">\n",
       "  <thead>\n",
       "    <tr style=\"text-align: right;\">\n",
       "      <th></th>\n",
       "      <th>news_article</th>\n",
       "      <th>actual_category</th>\n",
       "      <th>predicted_category</th>\n",
       "    </tr>\n",
       "  </thead>\n",
       "  <tbody>\n",
       "    <tr>\n",
       "      <th>0</th>\n",
       "      <td>Local team, the Riverside Roarers, wins the national championship!</td>\n",
       "      <td>sports</td>\n",
       "      <td>sports</td>\n",
       "    </tr>\n",
       "    <tr>\n",
       "      <th>1</th>\n",
       "      <td>Olympics postponed due to unforeseen circumstances, world athletes in shock.</td>\n",
       "      <td>sports</td>\n",
       "      <td>sports</td>\n",
       "    </tr>\n",
       "    <tr>\n",
       "      <th>2</th>\n",
       "      <td>New athletic shoes by SportsMaster promise better performance for athletes.</td>\n",
       "      <td>sports</td>\n",
       "      <td>sports</td>\n",
       "    </tr>\n",
       "    <tr>\n",
       "      <th>3</th>\n",
       "      <td>Stock markets hit an all-time high; investors rejoice as GlobalTrade Inc. leads the surge.</td>\n",
       "      <td>business</td>\n",
       "      <td>business</td>\n",
       "    </tr>\n",
       "    <tr>\n",
       "      <th>4</th>\n",
       "      <td>Tech giant NeoTech set to acquire startup InnovateSoft, sparking industry buzz.</td>\n",
       "      <td>business</td>\n",
       "      <td>technology</td>\n",
       "    </tr>\n",
       "    <tr>\n",
       "      <th>5</th>\n",
       "      <td>Latest quarterly reports show unexpected profits for FinCorp Industries.</td>\n",
       "      <td>business</td>\n",
       "      <td>business</td>\n",
       "    </tr>\n",
       "    <tr>\n",
       "      <th>6</th>\n",
       "      <td>Revolutionary new AI tech from AIRevolution promises to change the way we work.</td>\n",
       "      <td>technology</td>\n",
       "      <td>technology</td>\n",
       "    </tr>\n",
       "    <tr>\n",
       "      <th>7</th>\n",
       "      <td>Major tech conference TechFest 2023 postponed due to health concerns.</td>\n",
       "      <td>technology</td>\n",
       "      <td>technology</td>\n",
       "    </tr>\n",
       "    <tr>\n",
       "      <th>8</th>\n",
       "      <td>Breakthrough in quantum computing achieved by Pinnacle University researchers.</td>\n",
       "      <td>technology</td>\n",
       "      <td>technology</td>\n",
       "    </tr>\n",
       "    <tr>\n",
       "      <th>9</th>\n",
       "      <td>Financial analysts at MoneyMatters predict a bullish year for commodities, especially gold.</td>\n",
       "      <td>business</td>\n",
       "      <td>business</td>\n",
       "    </tr>\n",
       "  </tbody>\n",
       "</table>\n",
       "</div>"
      ],
      "text/plain": [
       "                                                                                  news_article  \\\n",
       "0                           Local team, the Riverside Roarers, wins the national championship!   \n",
       "1                 Olympics postponed due to unforeseen circumstances, world athletes in shock.   \n",
       "2                  New athletic shoes by SportsMaster promise better performance for athletes.   \n",
       "3   Stock markets hit an all-time high; investors rejoice as GlobalTrade Inc. leads the surge.   \n",
       "4              Tech giant NeoTech set to acquire startup InnovateSoft, sparking industry buzz.   \n",
       "5                     Latest quarterly reports show unexpected profits for FinCorp Industries.   \n",
       "6              Revolutionary new AI tech from AIRevolution promises to change the way we work.   \n",
       "7                        Major tech conference TechFest 2023 postponed due to health concerns.   \n",
       "8               Breakthrough in quantum computing achieved by Pinnacle University researchers.   \n",
       "9  Financial analysts at MoneyMatters predict a bullish year for commodities, especially gold.   \n",
       "\n",
       "  actual_category predicted_category  \n",
       "0          sports             sports  \n",
       "1          sports             sports  \n",
       "2          sports             sports  \n",
       "3        business           business  \n",
       "4        business         technology  \n",
       "5        business           business  \n",
       "6      technology         technology  \n",
       "7      technology         technology  \n",
       "8      technology         technology  \n",
       "9        business           business  "
      ]
     },
     "execution_count": 45,
     "metadata": {},
     "output_type": "execute_result"
    }
   ],
   "source": [
    "articles = df['news_article'].values\n",
    "predicted_categories = []\n",
    "\n",
    "for article in articles:\n",
    "    predicted_categories.append(categorizer(article, news_categories)['labels'][0])\n",
    "\n",
    "df['predicted_category'] = predicted_categories\n",
    "df"
   ]
  }
 ],
 "metadata": {
  "accelerator": "GPU",
  "colab": {
   "gpuType": "T4",
   "provenance": []
  },
  "kernelspec": {
   "display_name": "Python 3 (ipykernel)",
   "language": "python",
   "name": "python3"
  },
  "language_info": {
   "codemirror_mode": {
    "name": "ipython",
    "version": 3
   },
   "file_extension": ".py",
   "mimetype": "text/x-python",
   "name": "python",
   "nbconvert_exporter": "python",
   "pygments_lexer": "ipython3",
   "version": "3.10.12"
  },
  "pycharm": {
   "stem_cell": {
    "cell_type": "raw",
    "metadata": {
     "collapsed": false
    },
    "source": []
   }
  }
 },
 "nbformat": 4,
 "nbformat_minor": 4
}
