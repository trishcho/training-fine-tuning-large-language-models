{
 "cells": [
  {
   "cell_type": "markdown",
   "metadata": {
    "id": "qUU7wy-brl_H",
    "pycharm": {
     "name": "#%% md\n"
    }
   },
   "source": [
    "# NLP applications with Transformers"
   ]
  },
  {
   "cell_type": "markdown",
   "metadata": {
    "id": "9Arcq-xju9zQ"
   },
   "source": [
    "## Leveraging Transformers Pipelines"
   ]
  },
  {
   "cell_type": "markdown",
   "metadata": {
    "id": "-HLOHXuArl_L",
    "pycharm": {
     "name": "#%% md\n"
    }
   },
   "source": [
    "__Here you will leverage various transformer pipelines to solve real-world problems__\n",
    "\n",
    "Pipelines encapsulate the overall process of every NLP process:\n",
    "\n",
    " 1. *Tokenization*: Split the initial input into multiple sub-entities with ... properties (i.e. tokens).\n",
    " 2. *Inference*: Maps every tokens into a more meaningful representation.\n",
    " 3. *Decoding*: Use the above representation to generate and/or extract the final output for the underlying task.\n",
    "\n",
    "The overall API is exposed to the end-user through the `pipeline()` method with the following\n",
    "structure:\n",
    "\n",
    "```python\n",
    "from transformers import pipeline\n",
    "\n",
    "# Using default model and tokenizer for the task\n",
    "pipeline(\"<task-name>\")\n",
    "\n",
    "# Using a user-specified model\n",
    "pipeline(\"<task-name>\", model=\"<model_name>\")\n",
    "\n",
    "# Using custom model/tokenizer as str\n",
    "pipeline('<task-name>', model='<model name>', tokenizer='<tokenizer_name>')\n",
    "```\n",
    "\n",
    "\n",
    "These models are already fine-tuned models for specific tasks available in huggingface hub\n",
    "\n",
    "___[Created By: Dipanjan (DJ)](https://www.linkedin.com/in/dipanjans/)___"
   ]
  },
  {
   "cell_type": "markdown",
   "metadata": {
    "id": "Tqx-lbzXWRS1"
   },
   "source": [
    "### Install dependencies"
   ]
  },
  {
   "cell_type": "code",
   "execution_count": null,
   "metadata": {
    "id": "AQ5t_gLNXO0r"
   },
   "outputs": [],
   "source": [
    "from transformers import pipeline\n",
    "import pandas as pd"
   ]
  },
  {
   "cell_type": "code",
   "execution_count": null,
   "metadata": {
    "id": "IoW3g_-F-c4R"
   },
   "outputs": [],
   "source": [
    "pd.set_option('display.max_colwidth', None)"
   ]
  },
  {
   "cell_type": "markdown",
   "metadata": {
    "id": "9iV_qpHD_UBG"
   },
   "source": [
    "# 1. Customer Feedback Analytics\n",
    "\n",
    "Scenario: You are working for a retail company which stocks various products. You will try to use tranformer LLMs here to extract sentiment and emotion from customer reviews"
   ]
  },
  {
   "cell_type": "markdown",
   "metadata": {
    "id": "bGwD_kyc_iEm"
   },
   "source": [
    "## Example Demo:"
   ]
  },
  {
   "cell_type": "code",
   "execution_count": null,
   "metadata": {
    "id": "FR5wjaEC7W24"
   },
   "outputs": [],
   "source": [
    "sample_reviews = [\n",
    "    \"The PureTaste kitchen blender is far from efficient. It struggles with even soft fruits and often overheats. I had to return it within a week.\",\n",
    "    \"The EverGreen plant fertilizer is magic in a bottle! Within weeks of using it, my plants have shown significant growth and look healthier than ever. A thumbs up from an avid gardener.\",\n",
    "    \"Purchased the NovaTech laptop last month, and it's been a smooth experience. The processing speed is fast, and the graphics are stunning. Best decision for my work and gaming needs.\",\n",
    "    \"The StarGlow nightlight looked promising, but it's far dimmer than advertised. Doesn't serve the purpose at all. Quite disappointed.\"\n",
    "]\n",
    "\n",
    "sample_review_df = pd.DataFrame(sample_reviews, columns=['review'])\n",
    "sample_review_df"
   ]
  },
  {
   "cell_type": "markdown",
   "metadata": {
    "id": "7zLMrEb-_l3L"
   },
   "source": [
    "### Load a sentiment analysis transformer model"
   ]
  },
  {
   "cell_type": "code",
   "execution_count": null,
   "metadata": {
    "id": "Tzq_Q6LK73wU"
   },
   "outputs": [],
   "source": [
    "sentiment_model = pipeline('sentiment-analysis', device=0)"
   ]
  },
  {
   "cell_type": "markdown",
   "metadata": {
    "id": "I1Og5NIG_puy"
   },
   "source": [
    "### Perform sentiment analysis for given reviews"
   ]
  },
  {
   "cell_type": "code",
   "execution_count": null,
   "metadata": {
    "id": "4taVgX9r79tF"
   },
   "outputs": [],
   "source": [
    "reviews = sample_review_df['review'].values\n",
    "reviews"
   ]
  },
  {
   "cell_type": "code",
   "execution_count": null,
   "metadata": {
    "id": "sPetHDom8WHy"
   },
   "outputs": [],
   "source": [
    "reviews[0]"
   ]
  },
  {
   "cell_type": "code",
   "execution_count": null,
   "metadata": {
    "id": "U-sDAeGY768N"
   },
   "outputs": [],
   "source": [
    "sentiment_model(reviews[0])"
   ]
  },
  {
   "cell_type": "code",
   "execution_count": null,
   "metadata": {
    "id": "Y_KNuqse8HvM"
   },
   "outputs": [],
   "source": [
    "sentiment_model(reviews[0])[0]['label']"
   ]
  },
  {
   "cell_type": "code",
   "execution_count": null,
   "metadata": {
    "id": "-gjHUpqn8Ktd"
   },
   "outputs": [],
   "source": [
    "sentiments = []\n",
    "\n",
    "for review in reviews:\n",
    "  sentiments.append(sentiment_model(review)[0]['label'])\n",
    "\n",
    "sentiments"
   ]
  },
  {
   "cell_type": "code",
   "execution_count": null,
   "metadata": {
    "id": "L5TmFb0G8ZJq"
   },
   "outputs": [],
   "source": [
    "sample_review_df['sentiment'] = sentiments\n",
    "sample_review_df"
   ]
  },
  {
   "cell_type": "markdown",
   "metadata": {
    "id": "2LuLQ7MD_tZo"
   },
   "source": [
    "### Load an emotion detector transformer model"
   ]
  },
  {
   "cell_type": "code",
   "execution_count": null,
   "metadata": {
    "id": "Pdp5PqF98cr-"
   },
   "outputs": [],
   "source": [
    "emotion_model = pipeline('sentiment-analysis',\n",
    "                         model='SamLowe/roberta-base-go_emotions',\n",
    "                         device=0)"
   ]
  },
  {
   "cell_type": "markdown",
   "metadata": {
    "id": "nrgHnWkO_0G6"
   },
   "source": [
    "### Perform emotion analysis for given reviews"
   ]
  },
  {
   "cell_type": "code",
   "execution_count": null,
   "metadata": {
    "id": "ApMW967C8qIj"
   },
   "outputs": [],
   "source": [
    "emotions = []\n",
    "\n",
    "for review in reviews:\n",
    "  emotions.append(emotion_model(review)[0]['label'])\n",
    "\n",
    "emotions"
   ]
  },
  {
   "cell_type": "code",
   "execution_count": null,
   "metadata": {
    "id": "y-PuC9cM85me"
   },
   "outputs": [],
   "source": [
    "sample_review_df['emotion'] = emotions\n",
    "sample_review_df"
   ]
  },
  {
   "cell_type": "markdown",
   "metadata": {
    "id": "8TycNUzv_1-u"
   },
   "source": [
    "### Plot some basic visuals"
   ]
  },
  {
   "cell_type": "code",
   "execution_count": null,
   "metadata": {
    "id": "rWYYe9wA89PA"
   },
   "outputs": [],
   "source": [
    "sample_review_df['sentiment'].value_counts().plot(kind='bar');"
   ]
  },
  {
   "cell_type": "code",
   "execution_count": null,
   "metadata": {
    "id": "2s3XIp649DPF"
   },
   "outputs": [],
   "source": [
    "sample_review_df['emotion'].value_counts().plot(kind='bar');"
   ]
  },
  {
   "cell_type": "markdown",
   "metadata": {
    "id": "xkJYul_8_5QP"
   },
   "source": [
    "## Your Turn:\n",
    "\n",
    "Given more customer reviews, repeat the same analytics which we showed you above.\n",
    "\n",
    "1. For each review get the sentiment and emotion using the same models\n",
    "2. Store the emotion and sentiment in separate columns in the dataframe\n",
    "3. Show the dataframe with all the columns\n",
    "4. Create basic visuals"
   ]
  },
  {
   "cell_type": "code",
   "execution_count": null,
   "metadata": {
    "id": "jcQ7Hhf79JZR"
   },
   "outputs": [],
   "source": [
    "reviews = [\n",
    "    \"I had high hopes for the UltraClean vacuum cleaner, but it hardly picks up any dirt. Also, the battery life is abysmal. Not worth the price.\",\n",
    "    \"The SunBurst solar charger was advertised as being highly efficient, but it barely charges my devices. Even under direct sunlight, it takes forever. A complete letdown.\",\n",
    "    \"Bought the AirLite drone, and it's not user-friendly at all. The controls are confusing, and the camera quality is mediocre at best. Wish I had gone for another brand.\",\n",
    "    \"Bought the LumiGlow skincare serum a month ago, and the results are visible! My skin feels rejuvenated and the fine lines have reduced. Definitely worth the investment.\",\n",
    "    \"The TerraFit hiking boots are outstanding. They're not only durable but also provide excellent support during long treks. My feet have never felt so comfortable during hikes.\",\n",
    "    \"I was skeptical about the QuickCook microwave oven initially, but it has surpassed all my expectations. The multi-function features and quick heating technology are truly innovative. A must-have in every kitchen!\",\n",
    "    \"The Prestige juicer is a disappointment. It constantly gets jammed, and cleaning it is a nightmare. I regret this purchase.\",\n",
    "    \"I recently purchased the AquaBliss water filter, and I'm genuinely impressed! Not only was the installation straightforward, but the water tastes remarkably fresh. Highly recommended for anyone wanting pure drinking water.\",\n",
    "    \"The SoundWave headphones are a game-changer. They fit comfortably, and the noise-cancellation feature is top-notch. I can finally enjoy my music without any interruptions.\",\n",
    "    \"The GlamorEyes mascara is terrible. It clumps easily and doesn't provide the volume it promises. Definitely won't be repurchasing.\",\n",
    "    \"The StreamLine smartwatch is a fantastic addition to my tech collection. It tracks my health metrics accurately, and the battery life is commendable. It's stylish and functional.\",\n",
    "    \"I've been using the SilkSoft hair conditioner for the past two weeks, and my hair has never felt better. It's silky, tangle-free, and smells divine. Highly recommend for those with frizzy hair.\",\n",
    "    \"The LuxeShine nail polish chips easily and doesn't last more than a day. The colors are lovely, but the quality leaves much to be desired.\",\n",
    "    \"Tried the PowerPulse wireless earbuds, and they keep disconnecting randomly. The sound quality is also underwhelming. Not what I expected for the price.\",\n",
    "    \"The ZoomDrive USB stick is both compact and efficient. Transferring files has never been faster, and its durable design ensures I don't have to worry about data loss.\",\n",
    "    \"Opted for the FreshBreeze air purifier, and it has made a noticeable difference in my home. Allergies are at bay, and the air feels cleaner and fresher.\",\n",
    "    \"The ClearVue window cleaner left streaks on my windows. I had to redo the cleaning with another product. It's more hassle than it's worth.\",\n",
    "    \"The MegaGrill BBQ set looked sturdy online, but in reality, it's flimsy and poorly constructed. Cooking on it has been a challenge.\",\n",
    "    \"The UrbanWalk sneakers are not only trendy but also incredibly comfortable. I've worn them for both workouts and casual outings, and they've been perfect for both.\",\n",
    "    \"The SwiftWrite pen set is not worth the money. The ink smudges, and the pens run out way too quickly. I'll be looking for alternatives.\"\n",
    "]\n",
    "\n",
    "review_df = pd.DataFrame(reviews, columns=['review'])\n",
    "review_df.head()"
   ]
  },
  {
   "cell_type": "code",
   "execution_count": null,
   "metadata": {
    "id": "0WRrajZC-RS1"
   },
   "outputs": [],
   "source": [
    "reviews = review_df['review'].values\n",
    "\n",
    "sentiments = []\n",
    "emotions = []\n",
    "\n",
    "for review in reviews:\n",
    "  <REPLACE WITH CODE HERE>"
   ]
  },
  {
   "cell_type": "code",
   "execution_count": null,
   "metadata": {
    "id": "e1_OoOfY_ASz"
   },
   "outputs": [],
   "source": [
    "review_df"
   ]
  },
  {
   "cell_type": "code",
   "execution_count": null,
   "metadata": {
    "id": "a_tAMKok_EAg"
   },
   "outputs": [],
   "source": [
    "review_df['sentiment'].value_counts().plot(kind='bar');"
   ]
  },
  {
   "cell_type": "code",
   "execution_count": null,
   "metadata": {
    "id": "HOhZfhuW_IPr"
   },
   "outputs": [],
   "source": [
    "review_df['emotion'].value_counts().plot(kind='bar');"
   ]
  },
  {
   "cell_type": "markdown",
   "metadata": {
    "id": "7UDpMwXEGXbs"
   },
   "source": [
    "# 2. Medical Report Q&A and Summary\n",
    "\n",
    "Scenario: You are working for a healthcare company and you need to quickly create a report summary for a brain cancer report and also test the feasibility of a chatbot.\n",
    "\n",
    "## Your Turn:\n",
    "\n",
    "Use the models mentioned below and try Q&A and Summarization"
   ]
  },
  {
   "cell_type": "markdown",
   "metadata": {
    "id": "qIvUFEVarl_s"
   },
   "source": [
    "### Question Answering\n",
    "\n",
    "Use the model and the context report provided and ask the following questions and see what answers you get\n",
    "\n",
    "1. What is cancer?\n",
    "2. What is brain cancer?\n",
    "3. What are traditional methods to detect brain cancer?\n",
    "4. What is Magnetic Resonance Imaging?\n",
    "5. What is biopsy?\n",
    "6. What can AI do for brain cancer?\n",
    "7. How can deep learning be used for brain cancer?"
   ]
  },
  {
   "cell_type": "code",
   "execution_count": null,
   "metadata": {
    "id": "ND_8LzQKrl_u",
    "pycharm": {
     "is_executing": false,
     "name": "#%% code\n"
    }
   },
   "outputs": [],
   "source": [
    "nlp_qa = pipeline('question-answering',\n",
    "                  model='deepset/roberta-base-squad2',\n",
    "                  device=0)"
   ]
  },
  {
   "cell_type": "code",
   "execution_count": null,
   "metadata": {
    "id": "hWplEBq6ZrTt"
   },
   "outputs": [],
   "source": [
    "context = \"\"\"\n",
    "Cancer Detection for the Brain: An Overview of Modern Methods and the Role of Computer Vision\n",
    "\n",
    "Cancer, a group of diseases characterized by the uncontrolled growth and spread of abnormal cells, has long been a significant concern in medical science. Among the various types of cancer, brain cancer is particularly alarming due to its location in the central nervous system. Detecting brain cancer early is crucial, as it significantly improves the chances of successful treatment and patient survival. This essay will delve into the methods available for detecting brain cancer, emphasizing early detection techniques and the growing role of computer vision in this arena.\n",
    "\n",
    "1. Traditional Detection Methods:\n",
    "a. Magnetic Resonance Imaging (MRI): This is the most commonly used technique for diagnosing brain tumors. MRI uses powerful magnets and radio waves to produce detailed images of the brain. These images can help identify abnormal growths, which may then be biopsied for confirmation.\n",
    "\n",
    "b. Computed Tomography (CT) Scan: Although not as detailed as MRI, CT scans are faster and can provide valuable information about the presence and location of tumors. They use X-rays to produce cross-sectional images of the brain.\n",
    "\n",
    "c. Biopsy: A biopsy is the removal of a small amount of tissue for examination under a microscope. This is the most definitive way to diagnose cancer. Surgeons usually perform biopsies using a needle or during surgery.\n",
    "\n",
    "2. Early Detection Techniques:\n",
    "a. Advanced Imaging: Advanced MRI techniques, such as functional MRI (fMRI) and magnetic resonance spectroscopy (MRS), can detect early changes in the brain's functionality or chemistry, even before a tumor becomes apparent.\n",
    "\n",
    "b. Liquid Biopsy: This is a non-invasive method where doctors test the blood for tiny fragments of DNA shed by cancer cells. While still in the research phase for brain cancer, it holds promise for early detection.\n",
    "\n",
    "c. Neurological Exams: Regular neurological exams can catch subtle changes in brain function, such as coordination, memory, or reflexes, which might be indicative of a developing tumor.\n",
    "\n",
    "3. Computer Vision and Brain Cancer Detection:\n",
    "With the advancement of artificial intelligence (AI) and machine learning, computer vision has emerged as a potent tool in the medical field, especially in cancer detection.\n",
    "\n",
    "a. Image Segmentation: Computer vision algorithms can segment MRI or CT scan images to highlight potential tumor regions accurately. This can be particularly useful in identifying small tumors that might be overlooked by the human eye.\n",
    "\n",
    "b. Predictive Analysis: Using vast datasets, computer vision systems can predict the likelihood of a tumor being malignant or benign. This assists doctors in deciding whether a biopsy is necessary.\n",
    "\n",
    "c. Automated Monitoring: By comparing current images with previous scans, computer vision can detect minute changes over time, enabling the identification of tumors at a very early stage.\n",
    "\n",
    "d. Enhanced Visualization: Computer vision can enhance the visualization of scans, making it easier for radiologists to interpret the results. Techniques like deep learning can amplify the differences between healthy and cancerous tissues.\n",
    "\n",
    "In conclusion, while traditional methods of brain cancer detection remain foundational, the integration of modern techniques, especially computer vision, is revolutionizing the early detection and diagnosis of this life-threatening disease. The synergy of human expertise and machine precision promises a brighter future for patients at risk of brain cancer. As research progresses and technology becomes more advanced, we can anticipate even more accurate and early detection methods, potentially saving countless lives.\n",
    "\"\"\""
   ]
  },
  {
   "cell_type": "code",
   "execution_count": null,
   "metadata": {
    "id": "sgnBjoVvafqF"
   },
   "outputs": [],
   "source": [
    "nlp_qa(context=context, question='What is cancer?')"
   ]
  },
  {
   "cell_type": "code",
   "execution_count": null,
   "metadata": {
    "id": "2IDudp4TalZ0"
   },
   "outputs": [],
   "source": [
    "<REPLACE WITH CODE HERE>"
   ]
  },
  {
   "cell_type": "code",
   "execution_count": null,
   "metadata": {
    "id": "uZQIFG2Sao9t"
   },
   "outputs": [],
   "source": [
    "<REPLACE WITH CODE HERE>"
   ]
  },
  {
   "cell_type": "code",
   "execution_count": null,
   "metadata": {
    "id": "95ehmGq6bDID"
   },
   "outputs": [],
   "source": [
    "<REPLACE WITH CODE HERE>"
   ]
  },
  {
   "cell_type": "code",
   "execution_count": null,
   "metadata": {
    "id": "uy2DUQSSa4qT"
   },
   "outputs": [],
   "source": [
    "<REPLACE WITH CODE HERE>"
   ]
  },
  {
   "cell_type": "code",
   "execution_count": null,
   "metadata": {
    "id": "eZKDWbfBCuUv"
   },
   "outputs": [],
   "source": [
    "<REPLACE WITH CODE HERE>"
   ]
  },
  {
   "cell_type": "code",
   "execution_count": null,
   "metadata": {
    "id": "9W9cjmApC6ni"
   },
   "outputs": [],
   "source": [
    "<REPLACE WITH CODE HERE>"
   ]
  },
  {
   "cell_type": "markdown",
   "metadata": {
    "id": "Fbs9t1KvrzDy"
   },
   "source": [
    "### Summarization\n",
    "\n",
    "Use the model mentioned below and summarize the brain cancer report from above"
   ]
  },
  {
   "cell_type": "code",
   "execution_count": null,
   "metadata": {
    "id": "streAal1byjl"
   },
   "outputs": [],
   "source": [
    "summarizer = pipeline('summarization',\n",
    "                      model='philschmid/bart-large-cnn-samsum',\n",
    "                      device=0)"
   ]
  },
  {
   "cell_type": "code",
   "execution_count": null,
   "metadata": {
    "id": "8BaOgzi1u1Yc"
   },
   "outputs": [],
   "source": [
    "result = <REPLACE WITH CODE HERE>"
   ]
  },
  {
   "cell_type": "code",
   "execution_count": null,
   "metadata": {
    "id": "1x2scDHTAU96"
   },
   "outputs": [],
   "source": [
    "result"
   ]
  },
  {
   "cell_type": "code",
   "execution_count": null,
   "metadata": {
    "id": "5hdyAooqNfwZ"
   },
   "outputs": [],
   "source": [
    "from IPython.display import Markdown, display\n",
    "\n",
    "summary = result[0]['summary_text']\n",
    "display(summary)"
   ]
  },
  {
   "cell_type": "markdown",
   "metadata": {
    "id": "qPUpg0M8hCtB"
   },
   "source": [
    "# 3. News Categorization\n",
    "\n",
    "Scenario: You are working for a news website who wants to stop frustrated people from sitting and manually categorizing news articles in specific category sections in its website, so they can help with creating more content and be happy!\n",
    "\n",
    "Here you as an AI expert will try to use a zero-shot transformer LLM to do news categorization for three major news categories - sports, business and technology."
   ]
  },
  {
   "cell_type": "markdown",
   "metadata": {
    "id": "lNacBYYuVSem"
   },
   "source": [
    "## Example Demo:"
   ]
  },
  {
   "cell_type": "markdown",
   "metadata": {
    "id": "PwT9Ue2ZVUfd"
   },
   "source": [
    "### Load the zero shot model"
   ]
  },
  {
   "cell_type": "code",
   "execution_count": null,
   "metadata": {
    "id": "5pKfxTxohXuZ"
   },
   "outputs": [],
   "source": [
    "categorizer = pipeline('zero-shot-classification',\n",
    "                       device=0)"
   ]
  },
  {
   "cell_type": "markdown",
   "metadata": {
    "id": "G5uPYmLZVXK3"
   },
   "source": [
    "### View the sample news articles"
   ]
  },
  {
   "cell_type": "code",
   "execution_count": null,
   "metadata": {
    "id": "-rzw9_QIQwwi"
   },
   "outputs": [],
   "source": [
    "# Sample data with fictitious names for 5 articles\n",
    "data = {\n",
    "    \"news_article\": [\n",
    "        \"Riverside Roarers clinch victory in the regional football finals!\",\n",
    "        \"Tech giant NeoTech announces its latest smartphone, the NeoTech Ultra.\",\n",
    "        \"Stock markets see a steady rise, with BlueChip Enterprises leading the rally.\",\n",
    "        \"InnovateSoft unveils a groundbreaking app that aids remote learning.\",\n",
    "        \"Commodities market shaken as precious metal prices fluctuate unexpectedly.\"\n",
    "    ],\n",
    "    \"actual_category\": [\n",
    "        \"sports\",\n",
    "        \"technology\",\n",
    "        \"business\",\n",
    "        \"technology\",\n",
    "        \"business\"\n",
    "    ]\n",
    "}\n",
    "\n",
    "# Creating the dataframe\n",
    "df = pd.DataFrame(data)\n",
    "df"
   ]
  },
  {
   "cell_type": "markdown",
   "metadata": {
    "id": "k2R2Yo8jVan7"
   },
   "source": [
    "### Perform text categorization"
   ]
  },
  {
   "cell_type": "code",
   "execution_count": null,
   "metadata": {
    "id": "IhNjd338m7wh"
   },
   "outputs": [],
   "source": [
    "news_categories = ['sports', 'business', 'technology']"
   ]
  },
  {
   "cell_type": "code",
   "execution_count": null,
   "metadata": {
    "id": "WdAdSBiZRzuw"
   },
   "outputs": [],
   "source": [
    "articles = df['news_article'].values\n",
    "articles"
   ]
  },
  {
   "cell_type": "code",
   "execution_count": null,
   "metadata": {
    "id": "ADvdpGrvR5G1"
   },
   "outputs": [],
   "source": [
    "articles[0]"
   ]
  },
  {
   "cell_type": "code",
   "execution_count": null,
   "metadata": {
    "id": "Da9lEVzmRqF1"
   },
   "outputs": [],
   "source": [
    "categorizer(articles[0], news_categories)"
   ]
  },
  {
   "cell_type": "code",
   "execution_count": null,
   "metadata": {
    "id": "YKSpJzU4R9HH"
   },
   "outputs": [],
   "source": [
    "categorizer(articles, news_categories)['labels'][0]"
   ]
  },
  {
   "cell_type": "code",
   "execution_count": null,
   "metadata": {
    "id": "fd_lMJ_-fchm"
   },
   "outputs": [],
   "source": [
    "predicted_categories = []\n",
    "\n",
    "for article in articles:\n",
    "    predicted_categories.append(categorizer(article, news_categories)['labels'][0])\n",
    "\n",
    "predicted_categories"
   ]
  },
  {
   "cell_type": "markdown",
   "metadata": {
    "id": "vj3KADuWVe-P"
   },
   "source": [
    "### Compare human labeled and AI model labeled categories"
   ]
  },
  {
   "cell_type": "code",
   "execution_count": null,
   "metadata": {
    "id": "A9pOS1QagYx_"
   },
   "outputs": [],
   "source": [
    "df['predicted_category'] = predicted_categories\n",
    "df"
   ]
  },
  {
   "cell_type": "markdown",
   "metadata": {
    "id": "NUaW5iEAVmSu"
   },
   "source": [
    "## Your turn:\n",
    "\n",
    "For the following news articles, perform the same exercise as shown above"
   ]
  },
  {
   "cell_type": "code",
   "execution_count": null,
   "metadata": {
    "id": "HxWDt0yqnpPP"
   },
   "outputs": [],
   "source": [
    "# Sample data with fictitious names\n",
    "data = {\n",
    "    \"news_article\": [\n",
    "        \"Local team, the Riverside Roarers, wins the national championship!\",\n",
    "        \"Olympics postponed due to unforeseen circumstances, world athletes in shock.\",\n",
    "        \"New athletic shoes by SportsMaster promise better performance for athletes.\",\n",
    "        \"Stock markets hit an all-time high; investors rejoice as GlobalTrade Inc. leads the surge.\",\n",
    "        \"Tech giant NeoTech set to acquire startup InnovateSoft, sparking industry buzz.\",\n",
    "        \"Latest quarterly reports show unexpected profits for FinCorp Industries.\",\n",
    "        \"Revolutionary new AI tech from AIRevolution promises to change the way we work.\",\n",
    "        \"Major tech conference TechFest 2023 postponed due to health concerns.\",\n",
    "        \"Breakthrough in quantum computing achieved by Pinnacle University researchers.\",\n",
    "        \"Financial analysts at MoneyMatters predict a bullish year for commodities, especially gold.\"\n",
    "    ],\n",
    "    \"actual_category\": [\n",
    "        \"sports\",\n",
    "        \"sports\",\n",
    "        \"sports\",\n",
    "        \"business\",\n",
    "        \"business\",\n",
    "        \"business\",\n",
    "        \"technology\",\n",
    "        \"technology\",\n",
    "        \"technology\",\n",
    "        \"business\"\n",
    "    ]\n",
    "}\n",
    "\n",
    "# Creating the dataframe\n",
    "df = pd.DataFrame(data)\n",
    "df"
   ]
  },
  {
   "cell_type": "code",
   "execution_count": null,
   "metadata": {
    "id": "AQi84iSJ6BQE"
   },
   "outputs": [],
   "source": [
    "news_categories"
   ]
  },
  {
   "cell_type": "code",
   "execution_count": null,
   "metadata": {
    "id": "Ty6MADLnSlSr"
   },
   "outputs": [],
   "source": [
    "articles = df['news_article'].values\n",
    "predicted_categories = []\n",
    "\n",
    "for article in articles:\n",
    "    <REPLACE WITH CODE HERE>"
   ]
  }
 ],
 "metadata": {
  "accelerator": "GPU",
  "colab": {
   "gpuType": "T4",
   "provenance": []
  },
  "kernelspec": {
   "display_name": "Python 3 (ipykernel)",
   "language": "python",
   "name": "python3"
  },
  "language_info": {
   "codemirror_mode": {
    "name": "ipython",
    "version": 3
   },
   "file_extension": ".py",
   "mimetype": "text/x-python",
   "name": "python",
   "nbconvert_exporter": "python",
   "pygments_lexer": "ipython3",
   "version": "3.10.12"
  },
  "pycharm": {
   "stem_cell": {
    "cell_type": "raw",
    "metadata": {
     "collapsed": false
    },
    "source": []
   }
  }
 },
 "nbformat": 4,
 "nbformat_minor": 4
}
